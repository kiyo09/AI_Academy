{
 "cells": [
  {
   "cell_type": "markdown",
   "metadata": {},
   "source": [
    "# 統計学入門\n"
   ]
  },
  {
   "cell_type": "markdown",
   "metadata": {},
   "source": [
    "## 平均"
   ]
  },
  {
   "cell_type": "code",
   "execution_count": 8,
   "metadata": {},
   "outputs": [
    {
     "name": "stdout",
     "output_type": "stream",
     "text": [
      "平均: 72\n"
     ]
    }
   ],
   "source": [
    "scores = [90,80,40,60,90]\n",
    "s = sum(scores)\n",
    "N = len(scores)\n",
    "mean = s // N\n",
    "print('平均:', mean)"
   ]
  },
  {
   "cell_type": "code",
   "execution_count": 9,
   "metadata": {},
   "outputs": [
    {
     "name": "stdout",
     "output_type": "stream",
     "text": [
      "分散： 376.0\n"
     ]
    }
   ],
   "source": [
    "import numpy as np\n",
    "v = np.var(scores)\n",
    "print('分散：',v)"
   ]
  },
  {
   "cell_type": "code",
   "execution_count": 10,
   "metadata": {},
   "outputs": [
    {
     "name": "stdout",
     "output_type": "stream",
     "text": [
      "376.0\n"
     ]
    }
   ],
   "source": [
    "V1 = 0\n",
    "for i in scores:\n",
    "    V1 = V1 + (1/len(scores)) * (i - mean)**2\n",
    "print(V1)"
   ]
  },
  {
   "cell_type": "code",
   "execution_count": 11,
   "metadata": {},
   "outputs": [
    {
     "name": "stdout",
     "output_type": "stream",
     "text": [
      "偏差 [18, 8, -32, -12, 18]\n"
     ]
    }
   ],
   "source": [
    "diff = []\n",
    "for n in scores:\n",
    "    diff.append(n-mean)\n",
    "    \n",
    "print('偏差',diff)"
   ]
  },
  {
   "cell_type": "code",
   "execution_count": 12,
   "metadata": {},
   "outputs": [
    {
     "name": "stdout",
     "output_type": "stream",
     "text": [
      "標準偏差 19.390719429665317\n"
     ]
    }
   ],
   "source": [
    "std = np.std(scores)\n",
    "print('標準偏差', std)"
   ]
  },
  {
   "cell_type": "markdown",
   "metadata": {},
   "source": [
    "## 演習問題"
   ]
  },
  {
   "cell_type": "code",
   "execution_count": 14,
   "metadata": {},
   "outputs": [
    {
     "name": "stdout",
     "output_type": "stream",
     "text": [
      "平均: 7\n"
     ]
    }
   ],
   "source": [
    "question = [3,5,6,7,9,12]\n",
    "s = sum(question)\n",
    "N = len(question)\n",
    "mean = s // N\n",
    "print('平均:', mean)"
   ]
  },
  {
   "cell_type": "code",
   "execution_count": 16,
   "metadata": {},
   "outputs": [
    {
     "name": "stdout",
     "output_type": "stream",
     "text": [
      "2.886751345948129\n"
     ]
    }
   ],
   "source": [
    "import math\n",
    "V2 = np.var(question)\n",
    "V2 = math.sqrt(V2)\n",
    "print(V2)"
   ]
  },
  {
   "cell_type": "markdown",
   "metadata": {},
   "source": [
    "## 基本統計量"
   ]
  },
  {
   "cell_type": "code",
   "execution_count": 17,
   "metadata": {},
   "outputs": [
    {
     "name": "stdout",
     "output_type": "stream",
     "text": [
      "平均値(Twitter, Facebook)：(110.0,110.0)\n",
      "最小値(Twitter, Facebook)：(30,100)\n",
      "最大値(Twitter, Facebook)：(210,120)\n",
      "範囲(Twitter, Facebook)：(180,20)\n",
      "中央値(Twitter, Facebook)：(80.0,110.0)\n"
     ]
    },
    {
     "data": {
      "text/plain": [
       "'\\n平均値(Twitter, Facebook)：(110.0,110.0)\\n最小値(Twitter, Facebook)：(30,100)\\n最大値(Twitter, Facebook)：(210,120)\\n範囲(Twitter, Facebook)：(180,20)\\n中央値(Twitter, Facebook)：(80.0,110.0)\\n'"
      ]
     },
     "execution_count": 17,
     "metadata": {},
     "output_type": "execute_result"
    }
   ],
   "source": [
    "twitter = np.array([180, 80, 30, 50, 210])\n",
    "facebook = np.array([100, 120, 100, 120, 110])\n",
    "\n",
    "# 平均値を計算\n",
    "t_mean = np.mean(twitter)\n",
    "f_mean = np.mean(facebook)\n",
    "\n",
    "# 最小値を計算\n",
    "t_minimum = np.min(twitter)\n",
    "f_minimum = np.min(facebook)\n",
    "\n",
    "# 最大値を計算\n",
    "t_maximum = np.max(twitter)\n",
    "f_maximum = np.max(facebook)\n",
    "\n",
    "# 範囲を計算\n",
    "t_range = t_maximum - t_minimum\n",
    "f_range = f_maximum - f_minimum\n",
    "\n",
    "# 中央値を計算\n",
    "t_median = np.median(twitter)\n",
    "f_median = np.median(facebook)\n",
    "\n",
    "print(\"平均値(Twitter, Facebook)：(\" + str(t_mean) + \",\" + str(f_mean) + \")\")\n",
    "print(\"最小値(Twitter, Facebook)：(\" + str(t_minimum) + \",\" + str(f_minimum) + \")\")\n",
    "print(\"最大値(Twitter, Facebook)：(\" + str(t_maximum) + \",\" + str(f_maximum) + \")\")\n",
    "print(\"範囲(Twitter, Facebook)：(\" + str(t_range) + \",\" + str(f_range) + \")\")\n",
    "print(\"中央値(Twitter, Facebook)：(\" + str(t_median) + \",\" + str(f_median) + \")\")\n",
    "#　出力結果\n",
    "\"\"\"\n",
    "平均値(Twitter, Facebook)：(110.0,110.0)\n",
    "最小値(Twitter, Facebook)：(30,100)\n",
    "最大値(Twitter, Facebook)：(210,120)\n",
    "範囲(Twitter, Facebook)：(180,20)\n",
    "中央値(Twitter, Facebook)：(80.0,110.0)\n",
    "\"\"\""
   ]
  },
  {
   "cell_type": "code",
   "execution_count": 18,
   "metadata": {},
   "outputs": [
    {
     "ename": "SyntaxError",
     "evalue": "EOF while scanning triple-quoted string literal (<ipython-input-18-a662a4c80a47>, line 18)",
     "output_type": "error",
     "traceback": [
      "\u001b[0;36m  File \u001b[0;32m\"<ipython-input-18-a662a4c80a47>\"\u001b[0;36m, line \u001b[0;32m18\u001b[0m\n\u001b[0;31m    標準偏\u001b[0m\n\u001b[0m       \n^\u001b[0m\n\u001b[0;31mSyntaxError\u001b[0m\u001b[0;31m:\u001b[0m EOF while scanning triple-quoted string literal\n"
     ]
    }
   ],
   "source": [
    "twitter = np.array([180, 80, 30, 50, 210])\n",
    "facebook = np.array([100, 120, 100, 120, 110])\n",
    "\n",
    "#　分散を計算\n",
    "t_var = np.var(twitter)\n",
    "f_var = np.var(facebook)\n",
    "\n",
    "#　標準偏差を計算\n",
    "t_std = np.std(twitter)\n",
    "f_std = np.std(facebook)\n",
    "\n",
    "print(\"分散(Twitter, Facebook)：(\" + str(t_var) + \",\" + str(f_var) +\")\")\n",
    "print(\"標準偏差(Twitter, Facebook)：(\" + str(t_std) + \",\" + str(f_std) +\")\")\n",
    "\n",
    "#　出力結果\n",
    "\"\"\"\n",
    "分散(Twitter, Facebook)：(5160.0,80.0)\n",
    "標準偏差(Twitter, Facebook)：(71.8331399843,8.94427191)\n",
    "\"\"\""
   ]
  },
  {
   "cell_type": "code",
   "execution_count": null,
   "metadata": {},
   "outputs": [],
   "source": []
  }
 ],
 "metadata": {
  "kernelspec": {
   "display_name": "Python 3",
   "language": "python",
   "name": "python3"
  },
  "language_info": {
   "codemirror_mode": {
    "name": "ipython",
    "version": 3
   },
   "file_extension": ".py",
   "mimetype": "text/x-python",
   "name": "python",
   "nbconvert_exporter": "python",
   "pygments_lexer": "ipython3",
   "version": "3.7.6"
  }
 },
 "nbformat": 4,
 "nbformat_minor": 4
}
