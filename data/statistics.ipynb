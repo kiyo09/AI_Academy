{
 "cells": [
  {
   "cell_type": "markdown",
   "metadata": {},
   "source": [
    "# 統計学入門\n"
   ]
  },
  {
   "cell_type": "markdown",
   "metadata": {},
   "source": [
    "## 平均"
   ]
  },
  {
   "cell_type": "code",
   "execution_count": 8,
   "metadata": {},
   "outputs": [
    {
     "name": "stdout",
     "output_type": "stream",
     "text": [
      "平均: 72\n"
     ]
    }
   ],
   "source": [
    "scores = [90,80,40,60,90]\n",
    "s = sum(scores)\n",
    "N = len(scores)\n",
    "mean = s // N\n",
    "print('平均:', mean)"
   ]
  },
  {
   "cell_type": "code",
   "execution_count": 9,
   "metadata": {},
   "outputs": [
    {
     "name": "stdout",
     "output_type": "stream",
     "text": [
      "分散： 376.0\n"
     ]
    }
   ],
   "source": [
    "import numpy as np\n",
    "v = np.var(scores)\n",
    "print('分散：',v)"
   ]
  },
  {
   "cell_type": "code",
   "execution_count": 10,
   "metadata": {},
   "outputs": [
    {
     "name": "stdout",
     "output_type": "stream",
     "text": [
      "376.0\n"
     ]
    }
   ],
   "source": [
    "V1 = 0\n",
    "for i in scores:\n",
    "    V1 = V1 + (1/len(scores)) * (i - mean)**2\n",
    "print(V1)"
   ]
  },
  {
   "cell_type": "code",
   "execution_count": 11,
   "metadata": {},
   "outputs": [
    {
     "name": "stdout",
     "output_type": "stream",
     "text": [
      "偏差 [18, 8, -32, -12, 18]\n"
     ]
    }
   ],
   "source": [
    "diff = []\n",
    "for n in scores:\n",
    "    diff.append(n-mean)\n",
    "    \n",
    "print('偏差',diff)"
   ]
  },
  {
   "cell_type": "code",
   "execution_count": 12,
   "metadata": {},
   "outputs": [
    {
     "name": "stdout",
     "output_type": "stream",
     "text": [
      "標準偏差 19.390719429665317\n"
     ]
    }
   ],
   "source": [
    "std = np.std(scores)\n",
    "print('標準偏差', std)"
   ]
  },
  {
   "cell_type": "markdown",
   "metadata": {},
   "source": [
    "## 演習問題"
   ]
  },
  {
   "cell_type": "code",
   "execution_count": 14,
   "metadata": {},
   "outputs": [
    {
     "name": "stdout",
     "output_type": "stream",
     "text": [
      "平均: 7\n"
     ]
    }
   ],
   "source": [
    "question = [3,5,6,7,9,12]\n",
    "s = sum(question)\n",
    "N = len(question)\n",
    "mean = s // N\n",
    "print('平均:', mean)"
   ]
  },
  {
   "cell_type": "code",
   "execution_count": 16,
   "metadata": {},
   "outputs": [
    {
     "name": "stdout",
     "output_type": "stream",
     "text": [
      "2.886751345948129\n"
     ]
    }
   ],
   "source": [
    "import math\n",
    "V2 = np.var(question)\n",
    "V2 = math.sqrt(V2)\n",
    "print(V2)"
   ]
  },
  {
   "cell_type": "markdown",
   "metadata": {},
   "source": [
    "## 基本統計量"
   ]
  },
  {
   "cell_type": "code",
   "execution_count": 17,
   "metadata": {},
   "outputs": [
    {
     "name": "stdout",
     "output_type": "stream",
     "text": [
      "平均値(Twitter, Facebook)：(110.0,110.0)\n",
      "最小値(Twitter, Facebook)：(30,100)\n",
      "最大値(Twitter, Facebook)：(210,120)\n",
      "範囲(Twitter, Facebook)：(180,20)\n",
      "中央値(Twitter, Facebook)：(80.0,110.0)\n"
     ]
    },
    {
     "data": {
      "text/plain": [
       "'\\n平均値(Twitter, Facebook)：(110.0,110.0)\\n最小値(Twitter, Facebook)：(30,100)\\n最大値(Twitter, Facebook)：(210,120)\\n範囲(Twitter, Facebook)：(180,20)\\n中央値(Twitter, Facebook)：(80.0,110.0)\\n'"
      ]
     },
     "execution_count": 17,
     "metadata": {},
     "output_type": "execute_result"
    }
   ],
   "source": [
    "twitter = np.array([180, 80, 30, 50, 210])\n",
    "facebook = np.array([100, 120, 100, 120, 110])\n",
    "\n",
    "# 平均値を計算\n",
    "t_mean = np.mean(twitter)\n",
    "f_mean = np.mean(facebook)\n",
    "\n",
    "# 最小値を計算\n",
    "t_minimum = np.min(twitter)\n",
    "f_minimum = np.min(facebook)\n",
    "\n",
    "# 最大値を計算\n",
    "t_maximum = np.max(twitter)\n",
    "f_maximum = np.max(facebook)\n",
    "\n",
    "# 範囲を計算\n",
    "t_range = t_maximum - t_minimum\n",
    "f_range = f_maximum - f_minimum\n",
    "\n",
    "# 中央値を計算\n",
    "t_median = np.median(twitter)\n",
    "f_median = np.median(facebook)\n",
    "\n",
    "print(\"平均値(Twitter, Facebook)：(\" + str(t_mean) + \",\" + str(f_mean) + \")\")\n",
    "print(\"最小値(Twitter, Facebook)：(\" + str(t_minimum) + \",\" + str(f_minimum) + \")\")\n",
    "print(\"最大値(Twitter, Facebook)：(\" + str(t_maximum) + \",\" + str(f_maximum) + \")\")\n",
    "print(\"範囲(Twitter, Facebook)：(\" + str(t_range) + \",\" + str(f_range) + \")\")\n",
    "print(\"中央値(Twitter, Facebook)：(\" + str(t_median) + \",\" + str(f_median) + \")\")\n",
    "#　出力結果\n",
    "\"\"\"\n",
    "平均値(Twitter, Facebook)：(110.0,110.0)\n",
    "最小値(Twitter, Facebook)：(30,100)\n",
    "最大値(Twitter, Facebook)：(210,120)\n",
    "範囲(Twitter, Facebook)：(180,20)\n",
    "中央値(Twitter, Facebook)：(80.0,110.0)\n",
    "\"\"\""
   ]
  },
  {
   "cell_type": "code",
   "execution_count": 19,
   "metadata": {},
   "outputs": [
    {
     "name": "stdout",
     "output_type": "stream",
     "text": [
      "分散(Twitter, Facebook)：(5160.0,80.0)\n",
      "標準偏差(Twitter, Facebook)：(71.83313998427188,8.94427190999916)\n"
     ]
    },
    {
     "data": {
      "text/plain": [
       "'\\n分散(Twitter, Facebook)：(5160.0,80.0)\\n標準偏差(Twitter, Facebook)：(71.8331399843,8.94427191)\\n'"
      ]
     },
     "execution_count": 19,
     "metadata": {},
     "output_type": "execute_result"
    }
   ],
   "source": [
    "twitter = np.array([180, 80, 30, 50, 210])\n",
    "facebook = np.array([100, 120, 100, 120, 110])\n",
    "\n",
    "#　分散を計算\n",
    "t_var = np.var(twitter)\n",
    "f_var = np.var(facebook)\n",
    "\n",
    "#　標準偏差を計算\n",
    "t_std = np.std(twitter)\n",
    "f_std = np.std(facebook)\n",
    "\n",
    "print(\"分散(Twitter, Facebook)：(\" + str(t_var) + \",\" + str(f_var) +\")\")\n",
    "print(\"標準偏差(Twitter, Facebook)：(\" + str(t_std) + \",\" + str(f_std) +\")\")\n",
    "\n",
    "#　出力結果\n",
    "\"\"\"\n",
    "分散(Twitter, Facebook)：(5160.0,80.0)\n",
    "標準偏差(Twitter, Facebook)：(71.8331399843,8.94427191)\n",
    "\"\"\""
   ]
  },
  {
   "cell_type": "code",
   "execution_count": 20,
   "metadata": {},
   "outputs": [
    {
     "data": {
      "image/png": "[encoded data removed]",
      "text/plain": [
       "<Figure size 432x288 with 1 Axes>"
      ]
     },
     "metadata": {
      "needs_background": "light"
     },
     "output_type": "display_data"
    }
   ],
   "source": [
    "import matplotlib.pyplot as plt\n",
    "\n",
    "science=[100, 95, 74, 70, 62, 60, 50]\n",
    "math=[100, 85, 80, 65, 67, 61, 55]\n",
    "plt.scatter(science, math)\n",
    "\n",
    "plt.title(\"result of Math and Science test\")\n",
    "plt.xlabel(\"result of Science test\")\n",
    "plt.ylabel(\"result of Math test\")\n",
    "plt.savefig(\"Scatter_plot.png\")\n",
    "plt.show()"
   ]
  },
  {
   "cell_type": "code",
   "execution_count": 27,
   "metadata": {},
   "outputs": [
    {
     "data": {
      "text/plain": [
       "[<matplotlib.lines.Line2D at 0x1187bf490>]"
      ]
     },
     "execution_count": 27,
     "metadata": {},
     "output_type": "execute_result"
    },
    {
     "data": {
      "image/png": "[encoded data removed]",
      "text/plain": [
       "<Figure size 432x288 with 1 Axes>"
      ]
     },
     "metadata": {
      "needs_background": "light"
     },
     "output_type": "display_data"
    }
   ],
   "source": [
    "plt.plot(science, math,marker='o')"
   ]
  },
  {
   "cell_type": "code",
   "execution_count": 28,
   "metadata": {},
   "outputs": [],
   "source": [
    "w = 0.25\n",
    "\n",
    "Y1 = np.array([1600,2400,1800])\n",
    "Y2 = np.array([2000,2800,2500])\n",
    "Y3=np.array([1800,2500,2000])\n",
    "X = np.arange(len(Y1)) # [0, 1, 2]"
   ]
  },
  {
   "cell_type": "code",
   "execution_count": 29,
   "metadata": {},
   "outputs": [
    {
     "data": {
      "image/png": "[encoded data removed]",
      "text/plain": [
       "<Figure size 432x288 with 1 Axes>"
      ]
     },
     "metadata": {
      "needs_background": "light"
     },
     "output_type": "display_data"
    }
   ],
   "source": [
    "# 9月のデータを青で表示\n",
    "plt.bar(X, Y1, color='b', width=w, label='tokyo', align=\"center\")\n",
    "\n",
    "# 10月のデータを緑で表示\n",
    "plt.bar(X + w, Y2, color='g', width=w, label='nagoya', align=\"center\")\n",
    "\n",
    "# 11月のデータを赤で表示\n",
    "plt.bar(X + 2*w, Y3, color='r', width=w, label='osaka', align=\"center\")\n",
    "\n",
    "# 凡例\n",
    "plt.legend(loc=\"best\")\n",
    "\n",
    "# X軸の目盛りを書き換える\n",
    "plt.xticks(X + w/3, ['September','October','November'])\n",
    "\n",
    "plt.savefig(\"bar_graph.png\")\n",
    "plt.show()"
   ]
  },
  {
   "cell_type": "code",
   "execution_count": 49,
   "metadata": {},
   "outputs": [
    {
     "data": {
      "image/png": "[encoded data removed]",
      "text/plain": [
       "<Figure size 432x288 with 1 Axes>"
      ]
     },
     "metadata": {},
     "output_type": "display_data"
    },
    {
     "data": {
      "text/plain": [
       "<Figure size 432x288 with 0 Axes>"
      ]
     },
     "metadata": {},
     "output_type": "display_data"
    }
   ],
   "source": [
    "x = np.array([28.3 ,15.8, 6.2, 4.8, 3.6, 41.3])\n",
    "label = [\"China\", \"America\", \"India\", \"Russia\", \"Japan\",\"the others\"]\n",
    "plt.pie(x, labels=label, counterclock=False, startangle=90, autopct=\"%.1f%%\",\n",
    "        pctdistance=0.7)\n",
    "plt.axis('equal')\n",
    "plt.show()\n",
    "plt.savefig(\"pie_chart.png\")"
   ]
  },
  {
   "cell_type": "markdown",
   "metadata": {},
   "source": [
    "## 演習問題"
   ]
  },
  {
   "cell_type": "code",
   "execution_count": 31,
   "metadata": {},
   "outputs": [],
   "source": [
    "data = [1,3,4,4,5,5,5,6,9]"
   ]
  },
  {
   "cell_type": "code",
   "execution_count": 38,
   "metadata": {},
   "outputs": [
    {
     "data": {
      "text/plain": [
       "42"
      ]
     },
     "execution_count": 38,
     "metadata": {},
     "output_type": "execute_result"
    }
   ],
   "source": [
    "dd_sum = 0\n",
    "for i in data:\n",
    "    dd_sum += i\n",
    "dd_sum"
   ]
  },
  {
   "cell_type": "code",
   "execution_count": 47,
   "metadata": {},
   "outputs": [
    {
     "data": {
      "text/plain": [
       "4.666666666666667"
      ]
     },
     "execution_count": 47,
     "metadata": {},
     "output_type": "execute_result"
    }
   ],
   "source": [
    "dd_mean = dd_sum / len(data)\n",
    "dd_mean"
   ]
  },
  {
   "cell_type": "code",
   "execution_count": 48,
   "metadata": {},
   "outputs": [
    {
     "data": {
      "text/plain": [
       "11.666666666666663"
      ]
     },
     "execution_count": 48,
     "metadata": {},
     "output_type": "execute_result"
    }
   ],
   "source": [
    "for i in data:\n",
    "    dd_d += 1 / len(data) * (i - dd_mean)**2\n",
    "dd_d"
   ]
  },
  {
   "cell_type": "code",
   "execution_count": 45,
   "metadata": {},
   "outputs": [
    {
     "data": {
      "text/plain": [
       "4.222222222222222"
      ]
     },
     "execution_count": 45,
     "metadata": {},
     "output_type": "execute_result"
    }
   ],
   "source": [
    "d_sum = np.sum(data)\n",
    "d_mean = np.mean(data)\n",
    "d_d = np.var(data)\n",
    "d_s = np.std(data)\n",
    "d_d"
   ]
  },
  {
   "cell_type": "code",
   "execution_count": 46,
   "metadata": {},
   "outputs": [
    {
     "name": "stdout",
     "output_type": "stream",
     "text": [
      "合計値：42\n",
      "平均値：4.666666666666667\n",
      "分散：4.222222222222222\n",
      "標準偏差：2.0548046676563256\n"
     ]
    }
   ],
   "source": [
    "A = [1, 3, 4, 4, 5, 5, 5, 6, 9]\n",
    "n = len(A)\n",
    "sum = 0 #合計値\n",
    "for x in A:\n",
    "    sum += x\n",
    "print(\"合計値：\" + str(sum))\n",
    "\n",
    "ave = sum / n #平均値\n",
    "print(\"平均値：\" + str(ave))\n",
    "\n",
    "sum_of_squares = 0 #平方和\n",
    "for x in A:\n",
    "    sum_of_squares += (x - ave)**2\n",
    "Var = sum_of_squares / n #分散\n",
    "print(\"分散：\" + str(Var))\n",
    "\n",
    "s = (Var)**(1 / 2) #標準偏差\n",
    "print(\"標準偏差：\" + str(s))"
   ]
  },
  {
   "cell_type": "code",
   "execution_count": null,
   "metadata": {},
   "outputs": [],
   "source": []
  }
 ],
 "metadata": {
  "kernelspec": {
   "display_name": "Python 3",
   "language": "python",
   "name": "python3"
  },
  "language_info": {
   "codemirror_mode": {
    "name": "ipython",
    "version": 3
   },
   "file_extension": ".py",
   "mimetype": "text/x-python",
   "name": "python",
   "nbconvert_exporter": "python",
   "pygments_lexer": "ipython3",
   "version": "3.7.6"
  }
 },
 "nbformat": 4,
 "nbformat_minor": 4
}
