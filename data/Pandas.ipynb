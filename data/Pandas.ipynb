{
 "cells": [
  {
   "cell_type": "markdown",
   "metadata": {},
   "source": [
    "# Pandas入門"
   ]
  },
  {
   "cell_type": "markdown",
   "metadata": {},
   "source": [
    "## Pandasとは\n",
    "Pandas(パンダス)はデータ解析を容易にする機能を提供するPythonのデータ解析ライブラリです。"
   ]
  },
  {
   "cell_type": "markdown",
   "metadata": {},
   "source": [
    "## Pandasを使うメリット\n",
    "Pandasを使うメリットは主に2つあります。\n",
    "### 1. 多種の型のデータを一つのデータフレームで扱えること\n",
    "NumPyの配列（np.array）はすべての要素が同じ型でなければなりません。\n",
    "よって、csvファイルの読み書きなどでは、NumPyは非常に不便なライブラリです。\n",
    "その点、Pandasのデータフレームは異なる型のデータを入れることが出来ます。\n",
    "Pandasのデータフレームに格納することで、データの前処理が容易にできます。\n",
    "### 2.データ加工や解析の関数が多いこと\n",
    "別章で示した欠損値の削除・補完の他にも、これから紹介する様々な便利な関数がPandasには備わっています。\n",
    "そういった様々な関数の使い方をこの章では学びます。"
   ]
  },
  {
   "cell_type": "code",
   "execution_count": 1,
   "metadata": {},
   "outputs": [],
   "source": [
    "import pandas as pd"
   ]
  },
  {
   "cell_type": "markdown",
   "metadata": {},
   "source": [
    "### Seriesは1列のみのデータ型です。\n",
    "シリーズはデータ(values)とそれに対応する行ラベル(index)を持つ1次元データ構造であり、辞書型とは違ってデータには順番があります。"
   ]
  },
  {
   "cell_type": "code",
   "execution_count": 2,
   "metadata": {},
   "outputs": [
    {
     "name": "stdout",
     "output_type": "stream",
     "text": [
      "0    1\n",
      "1    2\n",
      "2    3\n",
      "3    5\n",
      "dtype: int64\n"
     ]
    }
   ],
   "source": [
    "s1 = pd.Series([1,2,3,5])\n",
    "print(s1)"
   ]
  },
  {
   "cell_type": "markdown",
   "metadata": {},
   "source": [
    "### データフレームは2次元のラベル付きのデータ構造で、Pandasでは最も多く使われるデータ型です。\n",
    "データフレームのイメージとして、スプレッドシートやSQLのテーブルをイメージするとわかりやすいです。\n",
    "DataFrameは複数の列を持ち、DataFrameから1列を抽出した場合も勝手にSeriesになります。\n",
    "また、シリーズと同様に様々な型のデータを保持することが出来ます。"
   ]
  },
  {
   "cell_type": "code",
   "execution_count": 5,
   "metadata": {},
   "outputs": [
    {
     "name": "stdout",
     "output_type": "stream",
     "text": [
      "   名前     役割   身長\n",
      "0  田中   営業部長  178\n",
      "1  山田    広報部  173\n",
      "2  高橋  技術責任者  169\n",
      "名前    object\n",
      "役割    object\n",
      "身長     int64\n",
      "dtype: object\n",
      "Index(['名前', '役割', '身長'], dtype='object')\n"
     ]
    }
   ],
   "source": [
    "df = pd.DataFrame({\n",
    "    '名前' :['田中', '山田', '高橋'],\n",
    "    '役割' : ['営業部長', '広報部', '技術責任者'],\n",
    "    '身長' : [178, 173, 169]\n",
    "})\n",
    "print(df)\n",
    "print(df.dtypes)\n",
    "print(df.columns)"
   ]
  },
  {
   "cell_type": "code",
   "execution_count": 8,
   "metadata": {},
   "outputs": [
    {
     "name": "stdout",
     "output_type": "stream",
     "text": [
      "   名前     役割   身長\n",
      "0  田中   営業部長  178\n",
      "1  山田    広報部  173\n",
      "2  高橋  技術責任者  169\n",
      "  Name Position  Height\n",
      "0   田中     営業部長     178\n",
      "1   山田      広報部     173\n",
      "2   高橋    技術責任者     169\n"
     ]
    }
   ],
   "source": [
    "data = {\n",
    "     '名前' :['田中', '山田', '高橋'],\n",
    "    '役割' : ['営業部長', '広報部', '技術責任者'],\n",
    "    '身長' : [178, 173, 169]\n",
    "}\n",
    "df = pd.DataFrame(data, columns=[\"名前\", \"役割\", \"身長\"])\n",
    "\n",
    "print(df)\n",
    "\n",
    "df.columns = ['Name', 'Position', 'Height']\n",
    "\n",
    "print(df)"
   ]
  },
  {
   "cell_type": "code",
   "execution_count": 12,
   "metadata": {},
   "outputs": [
    {
     "data": {
      "text/html": [
       "<div>\n",
       "<style scoped>\n",
       "    .dataframe tbody tr th:only-of-type {\n",
       "        vertical-align: middle;\n",
       "    }\n",
       "\n",
       "    .dataframe tbody tr th {\n",
       "        vertical-align: top;\n",
       "    }\n",
       "\n",
       "    .dataframe thead th {\n",
       "        text-align: right;\n",
       "    }\n",
       "</style>\n",
       "<table border=\"1\" class=\"dataframe\">\n",
       "  <thead>\n",
       "    <tr style=\"text-align: right;\">\n",
       "      <th></th>\n",
       "      <th>0</th>\n",
       "      <th>1</th>\n",
       "    </tr>\n",
       "  </thead>\n",
       "  <tbody>\n",
       "    <tr>\n",
       "      <th>0</th>\n",
       "      <td>0.752617</td>\n",
       "      <td>0.647546</td>\n",
       "    </tr>\n",
       "    <tr>\n",
       "      <th>1</th>\n",
       "      <td>0.284120</td>\n",
       "      <td>-1.407386</td>\n",
       "    </tr>\n",
       "    <tr>\n",
       "      <th>2</th>\n",
       "      <td>0.235878</td>\n",
       "      <td>1.179500</td>\n",
       "    </tr>\n",
       "    <tr>\n",
       "      <th>3</th>\n",
       "      <td>-0.912952</td>\n",
       "      <td>-0.352712</td>\n",
       "    </tr>\n",
       "    <tr>\n",
       "      <th>4</th>\n",
       "      <td>-1.044602</td>\n",
       "      <td>0.451336</td>\n",
       "    </tr>\n",
       "    <tr>\n",
       "      <th>15</th>\n",
       "      <td>-1.498945</td>\n",
       "      <td>-0.492234</td>\n",
       "    </tr>\n",
       "    <tr>\n",
       "      <th>16</th>\n",
       "      <td>1.992124</td>\n",
       "      <td>0.447611</td>\n",
       "    </tr>\n",
       "    <tr>\n",
       "      <th>17</th>\n",
       "      <td>-1.011442</td>\n",
       "      <td>0.454119</td>\n",
       "    </tr>\n",
       "    <tr>\n",
       "      <th>18</th>\n",
       "      <td>1.464587</td>\n",
       "      <td>0.062958</td>\n",
       "    </tr>\n",
       "    <tr>\n",
       "      <th>19</th>\n",
       "      <td>1.440275</td>\n",
       "      <td>0.779156</td>\n",
       "    </tr>\n",
       "  </tbody>\n",
       "</table>\n",
       "</div>"
      ],
      "text/plain": [
       "           0         1\n",
       "0   0.752617  0.647546\n",
       "1   0.284120 -1.407386\n",
       "2   0.235878  1.179500\n",
       "3  -0.912952 -0.352712\n",
       "4  -1.044602  0.451336\n",
       "15 -1.498945 -0.492234\n",
       "16  1.992124  0.447611\n",
       "17 -1.011442  0.454119\n",
       "18  1.464587  0.062958\n",
       "19  1.440275  0.779156"
      ]
     },
     "execution_count": 12,
     "metadata": {},
     "output_type": "execute_result"
    }
   ],
   "source": [
    "import numpy as np\n",
    "df = pd.DataFrame(np.random.randn(20,2))\n",
    "df.head()\n",
    "df.head().append(df.tail())"
   ]
  },
  {
   "cell_type": "code",
   "execution_count": 13,
   "metadata": {},
   "outputs": [],
   "source": [
    "df = pd.DataFrame([[10, 20], [25, 50]], index=[\"1行\", \"2行\"], columns=[\"1列\", \"2列\"])"
   ]
  },
  {
   "cell_type": "code",
   "execution_count": 14,
   "metadata": {},
   "outputs": [
    {
     "name": "stdout",
     "output_type": "stream",
     "text": [
      "1列    10\n",
      "2列    20\n",
      "Name: 1行, dtype: int64\n"
     ]
    }
   ],
   "source": [
    "print(df.loc[\"1行\", :])"
   ]
  },
  {
   "cell_type": "code",
   "execution_count": 15,
   "metadata": {},
   "outputs": [
    {
     "name": "stdout",
     "output_type": "stream",
     "text": [
      "    1列  2列\n",
      "1行  10  20\n",
      "2行  25  50\n"
     ]
    }
   ],
   "source": [
    "print(df.loc[: , [\"1列\", \"2列\"]])"
   ]
  },
  {
   "cell_type": "code",
   "execution_count": 17,
   "metadata": {},
   "outputs": [
    {
     "name": "stdout",
     "output_type": "stream",
     "text": [
      "    1列\n",
      "1行  10\n",
      "2行  25\n"
     ]
    }
   ],
   "source": [
    "print(df.loc[: , [\"1列\"]]) "
   ]
  },
  {
   "cell_type": "code",
   "execution_count": 18,
   "metadata": {},
   "outputs": [
    {
     "name": "stdout",
     "output_type": "stream",
     "text": [
      "    1列  2列\n",
      "2行  25  50\n"
     ]
    }
   ],
   "source": [
    "print(df.iloc[1:2])"
   ]
  },
  {
   "cell_type": "code",
   "execution_count": 19,
   "metadata": {},
   "outputs": [
    {
     "name": "stdout",
     "output_type": "stream",
     "text": [
      "1行    20\n",
      "2行    50\n",
      "Name: 2列, dtype: int64\n"
     ]
    }
   ],
   "source": [
    "print(df.iloc[:, -1])  # 負のインデックスを使い、末尾の要素から位置指定し2列目の全ての行を取得。"
   ]
  },
  {
   "cell_type": "code",
   "execution_count": 20,
   "metadata": {},
   "outputs": [
    {
     "name": "stdout",
     "output_type": "stream",
     "text": [
      "     A   B   C   D\n",
      "1行  10  20  30  30\n",
      "2行  25  50  65  80\n"
     ]
    }
   ],
   "source": [
    "df = pd.DataFrame([[10, 20,30, 30], [25, 50,65, 80]], index=[\"1行\", \"2行\"], columns=[\"A\", \"B\", \"C\", \"D\"])\n",
    "print(df)"
   ]
  },
  {
   "cell_type": "code",
   "execution_count": 22,
   "metadata": {},
   "outputs": [
    {
     "name": "stdout",
     "output_type": "stream",
     "text": [
      "     A   B   C   D\n",
      "1行  10  20  30  30\n",
      "2行  25  50  65  80\n"
     ]
    }
   ],
   "source": [
    "df = pd.DataFrame([[10,20,30,30],[25,50,65,80]], index=[\"1行\", \"2行\"], columns=[\"A\", \"B\", \"C\", \"D\"])\n",
    "print(df)"
   ]
  },
  {
   "cell_type": "code",
   "execution_count": 25,
   "metadata": {},
   "outputs": [
    {
     "name": "stdout",
     "output_type": "stream",
     "text": [
      "     A   B   C   D\n",
      "2行  25  50  65  80\n"
     ]
    }
   ],
   "source": [
    "print(df.query('A >= 20 and C <= 70'))"
   ]
  },
  {
   "cell_type": "code",
   "execution_count": 26,
   "metadata": {},
   "outputs": [
    {
     "name": "stdout",
     "output_type": "stream",
     "text": [
      "     a0   b0   c0   d0\n",
      "0    a1   b1   c1   d1\n",
      "1    a2   b2   c2   d2\n",
      "2    a3   b3   c3   d3\n",
      "3    a4   b4   c4   d4\n",
      "4    a5   b5   c5   d5\n",
      "5    a6   b6   c6   d6\n",
      "6    a7   b7   c7   d7\n",
      "7    a8   b8   c8   d8\n",
      "8    a9   b9   c9   d9\n",
      "9   a10  b10  c10  d10\n",
      "10  a11  b11  c11  d11\n",
      "<class 'pandas.core.frame.DataFrame'>\n",
      "a0    object\n",
      "b0    object\n",
      "c0    object\n",
      "d0    object\n",
      "dtype: object\n"
     ]
    },
    {
     "data": {
      "text/plain": [
       "'\\nエクセルの場合は下記のように使います。\\n.read_excel(\"任意のファイル名.xlsx\",encoding=\\'utf8\\')\\n'"
      ]
     },
     "execution_count": 26,
     "metadata": {},
     "output_type": "execute_result"
    }
   ],
   "source": [
    "data = pd.read_csv(\"https://aiacademy.jp/dataset/sample_data.csv\",\n",
    "                   encoding=\"cp932\",\n",
    "                   skiprows=1, # 1行読み飛ばす\n",
    "                   )\n",
    "\n",
    "print(data)\n",
    "print(type(data)) # <class 'pandas.core.frame.DataFrame'>\n",
    "print(data.dtypes)\n",
    "\n",
    "\"\"\"\n",
    "エクセルの場合は下記のように使います。\n",
    ".read_excel(\"任意のファイル名.xlsx\",encoding='utf8')\n",
    "\"\"\"\n",
    "\n",
    "# 書き出したcsvファイルをExcelで文字化けしないCSVファイルを書き出すには\n",
    "# to_csv関数の引数にencoding='utf_8_sig'をつけてください。\n",
    "# data.to_csv('./output.csv', encoding='utf_8_sig')"
   ]
  },
  {
   "cell_type": "code",
   "execution_count": 27,
   "metadata": {},
   "outputs": [
    {
     "data": {
      "text/html": [
       "<div>\n",
       "<style scoped>\n",
       "    .dataframe tbody tr th:only-of-type {\n",
       "        vertical-align: middle;\n",
       "    }\n",
       "\n",
       "    .dataframe tbody tr th {\n",
       "        vertical-align: top;\n",
       "    }\n",
       "\n",
       "    .dataframe thead th {\n",
       "        text-align: right;\n",
       "    }\n",
       "</style>\n",
       "<table border=\"1\" class=\"dataframe\">\n",
       "  <thead>\n",
       "    <tr style=\"text-align: right;\">\n",
       "      <th></th>\n",
       "      <th>0</th>\n",
       "      <th>1</th>\n",
       "    </tr>\n",
       "  </thead>\n",
       "  <tbody>\n",
       "    <tr>\n",
       "      <th>19</th>\n",
       "      <td>-1.373542</td>\n",
       "      <td>0.216056</td>\n",
       "    </tr>\n",
       "    <tr>\n",
       "      <th>18</th>\n",
       "      <td>-0.758407</td>\n",
       "      <td>-0.161418</td>\n",
       "    </tr>\n",
       "    <tr>\n",
       "      <th>17</th>\n",
       "      <td>0.351642</td>\n",
       "      <td>-0.630853</td>\n",
       "    </tr>\n",
       "    <tr>\n",
       "      <th>16</th>\n",
       "      <td>-0.210243</td>\n",
       "      <td>-0.178929</td>\n",
       "    </tr>\n",
       "    <tr>\n",
       "      <th>15</th>\n",
       "      <td>2.208783</td>\n",
       "      <td>-2.233109</td>\n",
       "    </tr>\n",
       "    <tr>\n",
       "      <th>14</th>\n",
       "      <td>1.182708</td>\n",
       "      <td>1.959116</td>\n",
       "    </tr>\n",
       "    <tr>\n",
       "      <th>13</th>\n",
       "      <td>-0.371577</td>\n",
       "      <td>-0.051277</td>\n",
       "    </tr>\n",
       "    <tr>\n",
       "      <th>12</th>\n",
       "      <td>0.545072</td>\n",
       "      <td>-0.246231</td>\n",
       "    </tr>\n",
       "    <tr>\n",
       "      <th>11</th>\n",
       "      <td>-0.531821</td>\n",
       "      <td>-1.244903</td>\n",
       "    </tr>\n",
       "    <tr>\n",
       "      <th>10</th>\n",
       "      <td>1.415864</td>\n",
       "      <td>-0.895917</td>\n",
       "    </tr>\n",
       "    <tr>\n",
       "      <th>9</th>\n",
       "      <td>1.458666</td>\n",
       "      <td>-0.432849</td>\n",
       "    </tr>\n",
       "    <tr>\n",
       "      <th>8</th>\n",
       "      <td>0.062882</td>\n",
       "      <td>0.015364</td>\n",
       "    </tr>\n",
       "    <tr>\n",
       "      <th>7</th>\n",
       "      <td>-0.864215</td>\n",
       "      <td>1.221186</td>\n",
       "    </tr>\n",
       "    <tr>\n",
       "      <th>6</th>\n",
       "      <td>0.519426</td>\n",
       "      <td>-0.382666</td>\n",
       "    </tr>\n",
       "    <tr>\n",
       "      <th>5</th>\n",
       "      <td>-1.890499</td>\n",
       "      <td>-0.893589</td>\n",
       "    </tr>\n",
       "    <tr>\n",
       "      <th>4</th>\n",
       "      <td>0.558498</td>\n",
       "      <td>0.118768</td>\n",
       "    </tr>\n",
       "    <tr>\n",
       "      <th>3</th>\n",
       "      <td>0.037931</td>\n",
       "      <td>0.965540</td>\n",
       "    </tr>\n",
       "    <tr>\n",
       "      <th>2</th>\n",
       "      <td>-0.822110</td>\n",
       "      <td>-0.615535</td>\n",
       "    </tr>\n",
       "    <tr>\n",
       "      <th>1</th>\n",
       "      <td>1.175795</td>\n",
       "      <td>-1.390070</td>\n",
       "    </tr>\n",
       "    <tr>\n",
       "      <th>0</th>\n",
       "      <td>-0.756849</td>\n",
       "      <td>1.157801</td>\n",
       "    </tr>\n",
       "  </tbody>\n",
       "</table>\n",
       "</div>"
      ],
      "text/plain": [
       "           0         1\n",
       "19 -1.373542  0.216056\n",
       "18 -0.758407 -0.161418\n",
       "17  0.351642 -0.630853\n",
       "16 -0.210243 -0.178929\n",
       "15  2.208783 -2.233109\n",
       "14  1.182708  1.959116\n",
       "13 -0.371577 -0.051277\n",
       "12  0.545072 -0.246231\n",
       "11 -0.531821 -1.244903\n",
       "10  1.415864 -0.895917\n",
       "9   1.458666 -0.432849\n",
       "8   0.062882  0.015364\n",
       "7  -0.864215  1.221186\n",
       "6   0.519426 -0.382666\n",
       "5  -1.890499 -0.893589\n",
       "4   0.558498  0.118768\n",
       "3   0.037931  0.965540\n",
       "2  -0.822110 -0.615535\n",
       "1   1.175795 -1.390070\n",
       "0  -0.756849  1.157801"
      ]
     },
     "execution_count": 27,
     "metadata": {},
     "output_type": "execute_result"
    }
   ],
   "source": [
    "df = pd.DataFrame(np.random.randn(20,2))\n",
    "df.sort_index(ascending=False) # 降順"
   ]
  },
  {
   "cell_type": "code",
   "execution_count": 31,
   "metadata": {},
   "outputs": [
    {
     "data": {
      "text/html": [
       "<div>\n",
       "<style scoped>\n",
       "    .dataframe tbody tr th:only-of-type {\n",
       "        vertical-align: middle;\n",
       "    }\n",
       "\n",
       "    .dataframe tbody tr th {\n",
       "        vertical-align: top;\n",
       "    }\n",
       "\n",
       "    .dataframe thead th {\n",
       "        text-align: right;\n",
       "    }\n",
       "</style>\n",
       "<table border=\"1\" class=\"dataframe\">\n",
       "  <thead>\n",
       "    <tr style=\"text-align: right;\">\n",
       "      <th></th>\n",
       "      <th>0</th>\n",
       "      <th>1</th>\n",
       "    </tr>\n",
       "  </thead>\n",
       "  <tbody>\n",
       "    <tr>\n",
       "      <th>14</th>\n",
       "      <td>1.182708</td>\n",
       "      <td>1.959116</td>\n",
       "    </tr>\n",
       "    <tr>\n",
       "      <th>7</th>\n",
       "      <td>-0.864215</td>\n",
       "      <td>1.221186</td>\n",
       "    </tr>\n",
       "    <tr>\n",
       "      <th>0</th>\n",
       "      <td>-0.756849</td>\n",
       "      <td>1.157801</td>\n",
       "    </tr>\n",
       "    <tr>\n",
       "      <th>3</th>\n",
       "      <td>0.037931</td>\n",
       "      <td>0.965540</td>\n",
       "    </tr>\n",
       "    <tr>\n",
       "      <th>19</th>\n",
       "      <td>-1.373542</td>\n",
       "      <td>0.216056</td>\n",
       "    </tr>\n",
       "    <tr>\n",
       "      <th>4</th>\n",
       "      <td>0.558498</td>\n",
       "      <td>0.118768</td>\n",
       "    </tr>\n",
       "    <tr>\n",
       "      <th>8</th>\n",
       "      <td>0.062882</td>\n",
       "      <td>0.015364</td>\n",
       "    </tr>\n",
       "    <tr>\n",
       "      <th>13</th>\n",
       "      <td>-0.371577</td>\n",
       "      <td>-0.051277</td>\n",
       "    </tr>\n",
       "    <tr>\n",
       "      <th>18</th>\n",
       "      <td>-0.758407</td>\n",
       "      <td>-0.161418</td>\n",
       "    </tr>\n",
       "    <tr>\n",
       "      <th>16</th>\n",
       "      <td>-0.210243</td>\n",
       "      <td>-0.178929</td>\n",
       "    </tr>\n",
       "    <tr>\n",
       "      <th>12</th>\n",
       "      <td>0.545072</td>\n",
       "      <td>-0.246231</td>\n",
       "    </tr>\n",
       "    <tr>\n",
       "      <th>6</th>\n",
       "      <td>0.519426</td>\n",
       "      <td>-0.382666</td>\n",
       "    </tr>\n",
       "    <tr>\n",
       "      <th>9</th>\n",
       "      <td>1.458666</td>\n",
       "      <td>-0.432849</td>\n",
       "    </tr>\n",
       "    <tr>\n",
       "      <th>2</th>\n",
       "      <td>-0.822110</td>\n",
       "      <td>-0.615535</td>\n",
       "    </tr>\n",
       "    <tr>\n",
       "      <th>17</th>\n",
       "      <td>0.351642</td>\n",
       "      <td>-0.630853</td>\n",
       "    </tr>\n",
       "    <tr>\n",
       "      <th>5</th>\n",
       "      <td>-1.890499</td>\n",
       "      <td>-0.893589</td>\n",
       "    </tr>\n",
       "    <tr>\n",
       "      <th>10</th>\n",
       "      <td>1.415864</td>\n",
       "      <td>-0.895917</td>\n",
       "    </tr>\n",
       "    <tr>\n",
       "      <th>11</th>\n",
       "      <td>-0.531821</td>\n",
       "      <td>-1.244903</td>\n",
       "    </tr>\n",
       "    <tr>\n",
       "      <th>1</th>\n",
       "      <td>1.175795</td>\n",
       "      <td>-1.390070</td>\n",
       "    </tr>\n",
       "    <tr>\n",
       "      <th>15</th>\n",
       "      <td>2.208783</td>\n",
       "      <td>-2.233109</td>\n",
       "    </tr>\n",
       "  </tbody>\n",
       "</table>\n",
       "</div>"
      ],
      "text/plain": [
       "           0         1\n",
       "14  1.182708  1.959116\n",
       "7  -0.864215  1.221186\n",
       "0  -0.756849  1.157801\n",
       "3   0.037931  0.965540\n",
       "19 -1.373542  0.216056\n",
       "4   0.558498  0.118768\n",
       "8   0.062882  0.015364\n",
       "13 -0.371577 -0.051277\n",
       "18 -0.758407 -0.161418\n",
       "16 -0.210243 -0.178929\n",
       "12  0.545072 -0.246231\n",
       "6   0.519426 -0.382666\n",
       "9   1.458666 -0.432849\n",
       "2  -0.822110 -0.615535\n",
       "17  0.351642 -0.630853\n",
       "5  -1.890499 -0.893589\n",
       "10  1.415864 -0.895917\n",
       "11 -0.531821 -1.244903\n",
       "1   1.175795 -1.390070\n",
       "15  2.208783 -2.233109"
      ]
     },
     "execution_count": 31,
     "metadata": {},
     "output_type": "execute_result"
    }
   ],
   "source": [
    "# 昇順でソートするには上記の降順ソートのコードをコメントアウトして下記を実行してください\n",
    "df.sort_values(by=1) # key(カラム名)が1の昇順(小さい順)でソート\n",
    "df.sort_values(by=1, ascending=False)  # keyが1の降順(大きい順)でソート"
   ]
  },
  {
   "cell_type": "code",
   "execution_count": 32,
   "metadata": {},
   "outputs": [
    {
     "name": "stdout",
     "output_type": "stream",
     "text": [
      "    int     str  flt\n",
      "0   1.0  python  5.5\n",
      "1   NaN      ai  4.2\n",
      "2   NaN     NaN -1.2\n",
      "3  32.0     NaN  NaN\n"
     ]
    }
   ],
   "source": [
    "df = pd.DataFrame({\"int\": [1, np.nan, np.nan, 32],\n",
    "                   \"str\": [\"python\", \"ai\", np.nan, np.nan],\n",
    "                   \"flt\": [5.5, 4.2, -1.2, np.nan]})\n",
    "print(df)"
   ]
  },
  {
   "cell_type": "code",
   "execution_count": 35,
   "metadata": {},
   "outputs": [
    {
     "name": "stdout",
     "output_type": "stream",
     "text": [
      "     int    str    flt\n",
      "0  False  False  False\n",
      "1   True  False  False\n",
      "2   True   True  False\n",
      "3  False   True   True\n",
      "     int    str    flt\n",
      "0   True   True   True\n",
      "1  False   True   True\n",
      "2  False  False   True\n",
      "3   True  False  False\n"
     ]
    }
   ],
   "source": [
    "print(df.isnull())\n",
    "print(df.notnull())"
   ]
  },
  {
   "cell_type": "code",
   "execution_count": 36,
   "metadata": {},
   "outputs": [
    {
     "name": "stdout",
     "output_type": "stream",
     "text": [
      "    int     str  flt\n",
      "0   1.0  python  5.5\n",
      "3  32.0     NaN  NaN\n",
      "   int     str  flt\n",
      "0  1.0  python  5.5\n",
      "    int     str  flt\n",
      "0   1.0  python  5.5\n",
      "1   0.0      ai  4.2\n",
      "2   0.0       0 -1.2\n",
      "3  32.0       0  0.0\n"
     ]
    }
   ],
   "source": [
    "# \"int\"列にNaNがある行の削除\n",
    "print(df.dropna(subset=[\"int\"]))\n",
    "\n",
    "# NaNがある行を全て削除する\n",
    "print(df.dropna())\n",
    "\n",
    "# NaNを全て0に置換する\n",
    "print(df.fillna(0)) # 第一引数にmethod=\"ffill\" 第二引数にlimtit=数字 とすることで指定した数字までは前のデータを使ってNaNを埋めることができます"
   ]
  },
  {
   "cell_type": "code",
   "execution_count": 38,
   "metadata": {},
   "outputs": [
    {
     "name": "stdout",
     "output_type": "stream",
     "text": [
      "    int     str\n",
      "0   1.0  python\n",
      "1   NaN      ai\n",
      "2   NaN     NaN\n",
      "3  32.0     NaN\n"
     ]
    },
    {
     "data": {
      "text/plain": [
       "'\\nint str\\n0 1.0 python\\n1 NaN ai\\n2 NaN NaN\\n3 32.0  NaN\\n'"
      ]
     },
     "execution_count": 38,
     "metadata": {},
     "output_type": "execute_result"
    }
   ],
   "source": [
    "df2 = pd.DataFrame({\"int\": [1, np.nan, np.nan, 32],\n",
    "                   \"str\": [\"python\", \"ai\", np.nan, np.nan],\n",
    "                   \"flt\": [5.5, 4.2, -1.2, np.nan]})\n",
    "\n",
    "# int列だけ0で補完\n",
    "df2.fillna({\"int\": 0}) # 特定の列に対しては辞書型を用いる\n",
    "\n",
    "\n",
    "# 列ごとに異なる値を使いたい時は複数のキーを渡す。\n",
    "df2.fillna({\"int\": 0, \"str\": \"ai\"}) \n",
    "\n",
    "# 特定の列(例えばflt)を削除\n",
    "df2.drop(labels=\"flt\",axis=1)\n",
    "\"\"\"\n",
    "  int str\n",
    "0 1.0 python\n",
    "1 NaN ai\n",
    "2 NaN NaN\n",
    "3 32.0  NaN\n",
    "\"\"\"\n",
    "\n",
    "# 複数の列を削除\n",
    "df2.drop(labels=[\"flt\", \"str\"],axis=1)\n",
    "\n",
    "\"\"\"\n",
    "  int\n",
    "0 1.0\n",
    "1 NaN\n",
    "2 NaN\n",
    "3 32.0\n",
    "\"\"\"\n",
    "\n",
    "# indexを指定すると行を消すこともできます\n",
    "df2.drop(index=1, axis=0)\n",
    "\"\"\"\n",
    "int str flt\n",
    "0 1.0 python  5.5\n",
    "2 NaN NaN -1.2\n",
    "3 32.0  NaN NaN\n",
    "\"\"\"\n",
    "\n",
    "# 元のデータに反映して削除するにはinplaceオプションにTrueを渡します\n",
    "df2.drop(labels=\"flt\", axis=1, inplace=True)\n",
    "print(df2)\n",
    "\n",
    "\"\"\"\n",
    "int str\n",
    "0 1.0 python\n",
    "1 NaN ai\n",
    "2 NaN NaN\n",
    "3 32.0  NaN\n",
    "\"\"\""
   ]
  },
  {
   "cell_type": "code",
   "execution_count": 39,
   "metadata": {},
   "outputs": [
    {
     "name": "stdout",
     "output_type": "stream",
     "text": [
      "          0         1         2\n",
      "0  0.736381  0.708291  0.035655\n",
      "1  0.798996  0.699748  0.895429\n",
      "2  0.516997  0.364623  0.558330\n",
      "3  0.128185  0.854013  0.683648\n",
      "4  0.257730  0.273227  0.641315\n",
      "5  0.174350  0.770535  0.204336\n"
     ]
    }
   ],
   "source": [
    "df3 = pd.DataFrame(np.random.rand(6,3))\n",
    "print(df3) # データの確認"
   ]
  },
  {
   "cell_type": "markdown",
   "metadata": {},
   "source": [
    "## 演習問題"
   ]
  },
  {
   "cell_type": "markdown",
   "metadata": {},
   "source": [
    "1. シリーズのデータ型を自由に作ってください。\n",
    "2. データフレームのデータ型を自由に作ってください。\n",
    "3. あるSNSサービスのユーザー10人のフォロー数やフォロワー数のcsvファイルがあります。\n",
    "このファイルのヘッダーがユーザーID,フォロー,フォロワー,いいねが与えられております。\n",
    "これらそれぞれuser_id,follow,follower,likeに変換したoutput.csvファイルを出力してください。\n",
    "データは下記URLにありますのでダウンロードしてください。\n",
    "4. d1 = {\"data1\": [\"a\",\"b\",\"c\",\"d\",\"c\",\"a\"], \"data2\": range(6)}を使って、d1という名前のDataFrameを作ってください。\n",
    "5. 4で作ったデータフレームをcsvファイル(.csv)とエクセルファイル(.xlsx)に書き出してください。\n",
    "6. 5で作成されたエクセルファイル(.xlsx)とcsvファイル(.csv)をそれぞれ読み込んでください。\n",
    "7. 5で作成したエクセルファイルに新しい列(カラム)を追加してください。\n",
    "8. 7に対してappendを使い、行を追加してください。"
   ]
  },
  {
   "cell_type": "code",
   "execution_count": 40,
   "metadata": {},
   "outputs": [
    {
     "data": {
      "text/plain": [
       "0     1\n",
       "1     2\n",
       "2    34\n",
       "3     3\n",
       "dtype: int64"
      ]
     },
     "execution_count": 40,
     "metadata": {},
     "output_type": "execute_result"
    }
   ],
   "source": [
    "free1= pd.Series([1,2,34,3])\n",
    "free1"
   ]
  },
  {
   "cell_type": "code",
   "execution_count": null,
   "metadata": {},
   "outputs": [],
   "source": []
  },
  {
   "cell_type": "code",
   "execution_count": 44,
   "metadata": {},
   "outputs": [
    {
     "data": {
      "text/html": [
       "<div>\n",
       "<style scoped>\n",
       "    .dataframe tbody tr th:only-of-type {\n",
       "        vertical-align: middle;\n",
       "    }\n",
       "\n",
       "    .dataframe tbody tr th {\n",
       "        vertical-align: top;\n",
       "    }\n",
       "\n",
       "    .dataframe thead th {\n",
       "        text-align: right;\n",
       "    }\n",
       "</style>\n",
       "<table border=\"1\" class=\"dataframe\">\n",
       "  <thead>\n",
       "    <tr style=\"text-align: right;\">\n",
       "      <th></th>\n",
       "      <th>0</th>\n",
       "    </tr>\n",
       "  </thead>\n",
       "  <tbody>\n",
       "    <tr>\n",
       "      <th>2</th>\n",
       "      <td>1</td>\n",
       "    </tr>\n",
       "    <tr>\n",
       "      <th>3</th>\n",
       "      <td>2</td>\n",
       "    </tr>\n",
       "  </tbody>\n",
       "</table>\n",
       "</div>"
      ],
      "text/plain": [
       "   0\n",
       "2  1\n",
       "3  2"
      ]
     },
     "execution_count": 44,
     "metadata": {},
     "output_type": "execute_result"
    }
   ],
   "source": [
    "free2 = pd.DataFrame([1,2],[2,3])\n",
    "free2"
   ]
  },
  {
   "cell_type": "code",
   "execution_count": 47,
   "metadata": {},
   "outputs": [
    {
     "data": {
      "text/html": [
       "<div>\n",
       "<style scoped>\n",
       "    .dataframe tbody tr th:only-of-type {\n",
       "        vertical-align: middle;\n",
       "    }\n",
       "\n",
       "    .dataframe tbody tr th {\n",
       "        vertical-align: top;\n",
       "    }\n",
       "\n",
       "    .dataframe thead th {\n",
       "        text-align: right;\n",
       "    }\n",
       "</style>\n",
       "<table border=\"1\" class=\"dataframe\">\n",
       "  <thead>\n",
       "    <tr style=\"text-align: right;\">\n",
       "      <th></th>\n",
       "      <th>ユーザーID</th>\n",
       "      <th>フォロー</th>\n",
       "      <th>フォロワー</th>\n",
       "      <th>いいね</th>\n",
       "    </tr>\n",
       "  </thead>\n",
       "  <tbody>\n",
       "    <tr>\n",
       "      <th>0</th>\n",
       "      <td>1</td>\n",
       "      <td>230</td>\n",
       "      <td>42502</td>\n",
       "      <td>20556</td>\n",
       "    </tr>\n",
       "    <tr>\n",
       "      <th>1</th>\n",
       "      <td>2</td>\n",
       "      <td>1214</td>\n",
       "      <td>160</td>\n",
       "      <td>89012052</td>\n",
       "    </tr>\n",
       "    <tr>\n",
       "      <th>2</th>\n",
       "      <td>3</td>\n",
       "      <td>6692</td>\n",
       "      <td>285</td>\n",
       "      <td>5519888</td>\n",
       "    </tr>\n",
       "    <tr>\n",
       "      <th>3</th>\n",
       "      <td>4</td>\n",
       "      <td>88</td>\n",
       "      <td>362</td>\n",
       "      <td>4019</td>\n",
       "    </tr>\n",
       "    <tr>\n",
       "      <th>4</th>\n",
       "      <td>5</td>\n",
       "      <td>277</td>\n",
       "      <td>633</td>\n",
       "      <td>3424</td>\n",
       "    </tr>\n",
       "    <tr>\n",
       "      <th>5</th>\n",
       "      <td>6</td>\n",
       "      <td>185</td>\n",
       "      <td>927</td>\n",
       "      <td>16420</td>\n",
       "    </tr>\n",
       "    <tr>\n",
       "      <th>6</th>\n",
       "      <td>7</td>\n",
       "      <td>440</td>\n",
       "      <td>848</td>\n",
       "      <td>12051</td>\n",
       "    </tr>\n",
       "    <tr>\n",
       "      <th>7</th>\n",
       "      <td>8</td>\n",
       "      <td>1409</td>\n",
       "      <td>145228</td>\n",
       "      <td>5283</td>\n",
       "    </tr>\n",
       "    <tr>\n",
       "      <th>8</th>\n",
       "      <td>9</td>\n",
       "      <td>3891</td>\n",
       "      <td>154205</td>\n",
       "      <td>712</td>\n",
       "    </tr>\n",
       "    <tr>\n",
       "      <th>9</th>\n",
       "      <td>10</td>\n",
       "      <td>1042</td>\n",
       "      <td>167201</td>\n",
       "      <td>128</td>\n",
       "    </tr>\n",
       "  </tbody>\n",
       "</table>\n",
       "</div>"
      ],
      "text/plain": [
       "   ユーザーID  フォロー   フォロワー       いいね\n",
       "0       1   230   42502     20556\n",
       "1       2  1214     160  89012052\n",
       "2       3  6692     285   5519888\n",
       "3       4    88     362      4019\n",
       "4       5   277     633      3424\n",
       "5       6   185     927     16420\n",
       "6       7   440     848     12051\n",
       "7       8  1409  145228      5283\n",
       "8       9  3891  154205       712\n",
       "9      10  1042  167201       128"
      ]
     },
     "execution_count": 47,
     "metadata": {},
     "output_type": "execute_result"
    }
   ],
   "source": [
    "sample = pd.read_csv('sns_data.csv')\n",
    "sample"
   ]
  },
  {
   "cell_type": "code",
   "execution_count": 49,
   "metadata": {},
   "outputs": [],
   "source": [
    "sample.columns = ['user_id','follow','follower','like']\n",
    "sample.to_csv('output.csv')"
   ]
  },
  {
   "cell_type": "code",
   "execution_count": 56,
   "metadata": {},
   "outputs": [
    {
     "data": {
      "text/plain": [
       "{'data1': ['a', 'b', 'c', 'd', 'c', 'a'], 'data2': range(0, 6)}"
      ]
     },
     "execution_count": 56,
     "metadata": {},
     "output_type": "execute_result"
    }
   ],
   "source": [
    "d1 = {\"data1\": [\"a\",\"b\",\"c\",\"d\",\"c\",\"a\"], \"data2\": range(6)}\n",
    "d1"
   ]
  },
  {
   "cell_type": "code",
   "execution_count": 58,
   "metadata": {},
   "outputs": [
    {
     "ename": "AttributeError",
     "evalue": "'dict' object has no attribute 'to_xlsx'",
     "output_type": "error",
     "traceback": [
      "\u001b[0;31m---------------------------------------------------------------------------\u001b[0m",
      "\u001b[0;31mAttributeError\u001b[0m                            Traceback (most recent call last)",
      "\u001b[0;32m<ipython-input-58-0c5beb90d853>\u001b[0m in \u001b[0;36m<module>\u001b[0;34m\u001b[0m\n\u001b[1;32m      1\u001b[0m \u001b[0mdf1\u001b[0m \u001b[0;34m=\u001b[0m \u001b[0mpd\u001b[0m\u001b[0;34m.\u001b[0m\u001b[0mDataFrame\u001b[0m\u001b[0;34m(\u001b[0m\u001b[0md1\u001b[0m\u001b[0;34m)\u001b[0m\u001b[0;34m\u001b[0m\u001b[0;34m\u001b[0m\u001b[0m\n\u001b[0;32m----> 2\u001b[0;31m \u001b[0md1\u001b[0m\u001b[0;34m.\u001b[0m\u001b[0mto_xlsx\u001b[0m\u001b[0;34m(\u001b[0m\u001b[0;34m'd1.xlsx'\u001b[0m\u001b[0;34m)\u001b[0m\u001b[0;34m\u001b[0m\u001b[0;34m\u001b[0m\u001b[0m\n\u001b[0m\u001b[1;32m      3\u001b[0m \u001b[0md1\u001b[0m\u001b[0;34m.\u001b[0m\u001b[0mto_csv\u001b[0m\u001b[0;34m(\u001b[0m\u001b[0;34m'd1.csv'\u001b[0m\u001b[0;34m)\u001b[0m\u001b[0;34m\u001b[0m\u001b[0;34m\u001b[0m\u001b[0m\n",
      "\u001b[0;31mAttributeError\u001b[0m: 'dict' object has no attribute 'to_xlsx'"
     ]
    }
   ],
   "source": [
    "df1 = pd.DataFrame(d1)\n",
    "d1.to_xlsx('d1.xlsx')\n",
    "d1.to_csv('d1.csv')"
   ]
  },
  {
   "cell_type": "code",
   "execution_count": 59,
   "metadata": {},
   "outputs": [],
   "source": [
    "d1 = {\"data1\": [\"a\",\"b\",\"c\",\"d\",\"c\",\"a\"], \"data2\": range(6)}\n",
    "df1 = pd.DataFrame(d1)"
   ]
  },
  {
   "cell_type": "code",
   "execution_count": 60,
   "metadata": {},
   "outputs": [],
   "source": [
    "df1.to_csv(\"kadai.csv\") # csvの書き込み\n",
    "df1.to_excel(\"kadai.xlsx\",encoding='utf8') # csvの書き込み"
   ]
  },
  {
   "cell_type": "code",
   "execution_count": 62,
   "metadata": {},
   "outputs": [
    {
     "name": "stdout",
     "output_type": "stream",
     "text": [
      "   Unnamed: 0 data1  data2\n",
      "0           0     a      0\n",
      "1           1     b      1\n",
      "2           2     c      2\n",
      "3           3     d      3\n",
      "4           4     c      4\n",
      "5           5     a      5\n",
      "   Unnamed: 0 data1  data2\n",
      "0           0     a      0\n",
      "1           1     b      1\n",
      "2           2     c      2\n",
      "3           3     d      3\n",
      "4           4     c      4\n",
      "5           5     a      5\n"
     ]
    }
   ],
   "source": [
    "# 6\n",
    "c = pd.read_csv(\"kadai.csv\")\n",
    "print(c)\n",
    "e = pd.read_excel(\"kadai.xlsx\")\n",
    "print(e)"
   ]
  },
  {
   "cell_type": "code",
   "execution_count": 63,
   "metadata": {},
   "outputs": [
    {
     "name": "stdout",
     "output_type": "stream",
     "text": [
      "Index(['Unnamed: 0', 'data1', 'data2'], dtype='object')\n",
      "RangeIndex(start=0, stop=6, step=1)\n",
      "6\n",
      "   Unnamed: 0 data1  data2 data3\n",
      "0           0     a      0     b\n",
      "1           1     b      1     b\n",
      "2           2     c      2     c\n",
      "3           3     d      3     d\n",
      "4           4     c      4     a\n",
      "5           5     a      5     a\n"
     ]
    }
   ],
   "source": [
    "# 7\n",
    "e = pd.read_excel(\"kadai.xlsx\")\n",
    "print(e.columns)\n",
    "print(e.index)\n",
    "e[\"data3\"] =  [\"b\",\"b\",\"c\",\"d\",\"a\",\"a\"]\n",
    "print(len(e.index))\n",
    "print(e)"
   ]
  },
  {
   "cell_type": "code",
   "execution_count": 67,
   "metadata": {},
   "outputs": [
    {
     "name": "stdout",
     "output_type": "stream",
     "text": [
      "Unnamed: 0     c\n",
      "data1         12\n",
      "data2          b\n",
      "data3         13\n",
      "dtype: object\n",
      "  Unnamed: 0 data1 data2 data3\n",
      "0          0     a     0     b\n",
      "1          1     b     1     b\n",
      "2          2     c     2     c\n",
      "3          3     d     3     d\n",
      "4          4     c     4     a\n",
      "5          5     a     5     a\n",
      "6          c    12     b    13\n",
      "7          c    12     b    13\n"
     ]
    }
   ],
   "source": [
    "# 8\n",
    "s = pd.Series([ \"c\",12, \"b\",13], index=e.columns)\n",
    "print(s)\n",
    "e = e.append(s, ignore_index=True)\n",
    "print(e)\n"
   ]
  },
  {
   "cell_type": "code",
   "execution_count": null,
   "metadata": {},
   "outputs": [],
   "source": []
  }
 ],
 "metadata": {
  "kernelspec": {
   "display_name": "Python 3",
   "language": "python",
   "name": "python3"
  },
  "language_info": {
   "codemirror_mode": {
    "name": "ipython",
    "version": 3
   },
   "file_extension": ".py",
   "mimetype": "text/x-python",
   "name": "python",
   "nbconvert_exporter": "python",
   "pygments_lexer": "ipython3",
   "version": "3.7.6"
  }
 },
 "nbformat": 4,
 "nbformat_minor": 4
}
