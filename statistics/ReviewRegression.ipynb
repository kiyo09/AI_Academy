{
 "cells": [
  {
   "cell_type": "markdown",
   "metadata": {},
   "source": [
    "# 評価指標(回帰)"
   ]
  },
  {
   "cell_type": "markdown",
   "metadata": {},
   "source": [
    "・平均二乗誤差 (MSE)  \n",
    "・二乗平均平方根誤差(RMSE)  \n",
    "・決定係数 (R2)"
   ]
  },
  {
   "cell_type": "markdown",
   "metadata": {},
   "source": [
    "## 平均二乗誤差 (MSE)\n",
    "平均二乗誤差 (MSE)とは、実際の値と予測値の絶対値の 2 乗を平均したものです。"
   ]
  },
  {
   "cell_type": "markdown",
   "metadata": {},
   "source": [
    "````\n",
    "from sklearn.metrics import mean_squared_error\n",
    "from math import sqrt\n",
    "\n",
    "# ※以下のコードはそのままでは動作しません。\n",
    "# 実際の値と予測した値には何らかの数値のリストを渡してください。\n",
    "mse = mean_squared_error(実際の値, 予測した値)\n",
    "````"
   ]
  },
  {
   "cell_type": "markdown",
   "metadata": {},
   "source": [
    "## 二乗平均平方根誤差(RMSE)\n",
    "二乗平均平方根誤差(RMSE) とは、上記のMSEに平方根をとることで計算されるものです。\n",
    "※平均平方根二乗誤差と呼んだりもします。\n",
    "二乗したことの影響を、平方根で補正しています。\n",
    "ちなみにRMSEは\"Root Mean Squared Error\"の略です。\n",
    "この値が小さければ小さいほど、誤差の小さいモデルであると言えます。"
   ]
  },
  {
   "cell_type": "markdown",
   "metadata": {},
   "source": [
    "````\n",
    "rmse = sqrt(mean_squared_error(実際の値, 予測した値))\n",
    "````"
   ]
  },
  {
   "cell_type": "markdown",
   "metadata": {},
   "source": [
    "## 決定係数\n",
    "決定係数(R2)とは、推定された回帰式の当てはまりの良さ（度合い）を表します。"
   ]
  },
  {
   "cell_type": "markdown",
   "metadata": {},
   "source": [
    "````\n",
    "from sklearn.linear_model import LinearRegression\n",
    "from sklearn.metrics import r2_score\n",
    "model = LinearRegression\n",
    "model.fit(X, y)\n",
    "result = model.score(X, y)\n",
    "````"
   ]
  },
  {
   "cell_type": "code",
   "execution_count": null,
   "metadata": {},
   "outputs": [],
   "source": []
  }
 ],
 "metadata": {
  "kernelspec": {
   "display_name": "Python 3",
   "language": "python",
   "name": "python3"
  },
  "language_info": {
   "codemirror_mode": {
    "name": "ipython",
    "version": 3
   },
   "file_extension": ".py",
   "mimetype": "text/x-python",
   "name": "python",
   "nbconvert_exporter": "python",
   "pygments_lexer": "ipython3",
   "version": "3.7.6"
  }
 },
 "nbformat": 4,
 "nbformat_minor": 4
}
