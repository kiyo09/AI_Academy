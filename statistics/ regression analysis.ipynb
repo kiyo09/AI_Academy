{
 "cells": [
  {
   "cell_type": "markdown",
   "metadata": {},
   "source": [
    "# 回帰分析とは (単回帰と重回帰)"
   ]
  },
  {
   "cell_type": "markdown",
   "metadata": {},
   "source": [
    "## 単回帰\n",
    "単回帰とは、教師あり学習の一種で、1つの説明変数を用いて目的変数（実数値）を予測する手法です。"
   ]
  },
  {
   "cell_type": "code",
   "execution_count": 1,
   "metadata": {},
   "outputs": [],
   "source": [
    "x = [[12],[16],[20],[28],[36]]\n",
    "y = [[700],[900],[1300],[1750],[1800]]"
   ]
  },
  {
   "cell_type": "code",
   "execution_count": 2,
   "metadata": {},
   "outputs": [
    {
     "data": {
      "image/png": "[encoded data removed]",
      "text/plain": [
       "<Figure size 432x288 with 1 Axes>"
      ]
     },
     "metadata": {
      "needs_background": "light"
     },
     "output_type": "display_data"
    }
   ],
   "source": [
    "import matplotlib.pyplot as plt\n",
    "\n",
    " # テキストエディタで実行する場合はこの行をコメントアウト(コメント化)してください。\n",
    "%matplotlib inline\n",
    "\n",
    "plt.figure()\n",
    "plt.title('Relation between diameter and price') #タイトル\n",
    "plt.xlabel('diameter') #軸ラベル\n",
    "plt.ylabel('price') #軸ラベル\n",
    "plt.scatter(x,y) #散布図の作成\n",
    "plt.axis([0, 50, 0, 2500]) #表の最小値、最大値\n",
    "plt.grid(True) #grid線\n",
    "plt.show()"
   ]
  },
  {
   "cell_type": "code",
   "execution_count": 4,
   "metadata": {},
   "outputs": [
    {
     "data": {
      "text/plain": [
       "LinearRegression(copy_X=True, fit_intercept=True, n_jobs=None, normalize=False)"
      ]
     },
     "execution_count": 4,
     "metadata": {},
     "output_type": "execute_result"
    }
   ],
   "source": [
    "from sklearn.linear_model import LinearRegression\n",
    "model = LinearRegression()\n",
    "model.fit(x,y)"
   ]
  },
  {
   "cell_type": "code",
   "execution_count": 6,
   "metadata": {},
   "outputs": [
    {
     "name": "stdout",
     "output_type": "stream",
     "text": [
      "25 cm pizza should cost: $1416.918103448276\n"
     ]
    }
   ],
   "source": [
    "import numpy as np\n",
    "# scikit-learnの最近のバージョンでは、predictに使うデータをreshape(-1,1)を用いる必要があります。\n",
    "# reshape(-1,1)により、2次元の縦ベクトルに変換しています。\n",
    "# 一方で、.reshape(1, -1)を使うと横ベクトルになりますが、今回の場合はreshape(-1,1)で縦ベクトルにすることで予測が出来るようになります。\n",
    "price = model.predict(np.array([25]).reshape(-1, 1)) # Google Colabなどでskleran.0.20系ご利用の方\n",
    "# price = model.predict(25) # scikit-learnバージョン0.1.9系　# price = model.predict([[25]])\n",
    "print('25 cm pizza should cost: $%s'%price[0][0])"
   ]
  },
  {
   "cell_type": "code",
   "execution_count": 7,
   "metadata": {},
   "outputs": [
    {
     "name": "stdout",
     "output_type": "stream",
     "text": [
      "r-squared: 0.662005292942255\n"
     ]
    }
   ],
   "source": [
    "# テストデータを作成\n",
    "x_test = [[16],[18],[22],[32],[24]]\n",
    "y_test = [[1100],[850],[1500],[1800],[1100]]\n",
    "\n",
    "score = model.score(x_test, y_test)\n",
    "print(\"r-squared:\",score)"
   ]
  },
  {
   "cell_type": "markdown",
   "metadata": {},
   "source": [
    "## 重回帰"
   ]
  },
  {
   "cell_type": "code",
   "execution_count": 8,
   "metadata": {},
   "outputs": [
    {
     "name": "stdout",
     "output_type": "stream",
     "text": [
      "Predicted:[1006.25], Target:[1100]\n",
      "Predicted:[1028.125], Target:[850]\n",
      "Predicted:[1309.375], Target:[1500]\n",
      "Predicted:[1814.58333333], Target:[1800]\n",
      "Predicted:[1331.25], Target:[1100]\n",
      "r-squared: 0.7701677731318466\n"
     ]
    }
   ],
   "source": [
    "x = [[12,2],[16,1],[20,0],[28,2],[36,0]]\n",
    "y = [[700],[900],[1300],[1750],[1800]]\n",
    "\n",
    "model = LinearRegression()\n",
    "model.fit(x,y)\n",
    "\n",
    "x_test = [[16,2],[18,0],[22,2],[32,2],[24,0]]\n",
    "y_test = [[1100],[850],[1500],[1800],[1100]]\n",
    "\n",
    "# prices = model.predict([[16, 2], [18, 0], [22, 2], [32, 2], [24, 0]])\n",
    "prices = model.predict(x_test) # 上のコメントと同じ\n",
    "\n",
    "# Pythonの標準関数であるenumerate関数は、リストのインデックスと要素を同時に取得できます。\n",
    "# この関数により、iにはインデックスが代入され、priceには予測されたインデックスに対応する価格を受け取っています。\n",
    "for i, price in enumerate(prices):\n",
    "    print('Predicted:%s, Target:%s'%(price,y_test[i]))\n",
    "\n",
    "score = model.score(x_test,y_test)\n",
    "print(\"r-squared:\",score)"
   ]
  },
  {
   "cell_type": "code",
   "execution_count": null,
   "metadata": {},
   "outputs": [],
   "source": []
  }
 ],
 "metadata": {
  "kernelspec": {
   "display_name": "Python 3",
   "language": "python",
   "name": "python3"
  },
  "language_info": {
   "codemirror_mode": {
    "name": "ipython",
    "version": 3
   },
   "file_extension": ".py",
   "mimetype": "text/x-python",
   "name": "python",
   "nbconvert_exporter": "python",
   "pygments_lexer": "ipython3",
   "version": "3.7.6"
  }
 },
 "nbformat": 4,
 "nbformat_minor": 4
}
