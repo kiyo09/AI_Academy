{
 "cells": [
  {
   "cell_type": "markdown",
   "metadata": {},
   "source": [
    "# クラスタリング"
   ]
  },
  {
   "cell_type": "markdown",
   "metadata": {},
   "source": [
    "クラスタリングとは、正解ラベルがないデータに対しいくつかのグループ（クラスタ）に分けるものです。"
   ]
  },
  {
   "cell_type": "markdown",
   "metadata": {},
   "source": [
    "# K-meansとは\n",
    "K-meansとは、クラスタリングのアルゴリズムの一種で実行速度が速く拡張性があるという特徴があります。K-meansのKはクラスタの数を示すハイパーパラメータです。\n",
    "Kは必ずデータの数より小さい値に設定します。"
   ]
  },
  {
   "cell_type": "code",
   "execution_count": 1,
   "metadata": {},
   "outputs": [
    {
     "data": {
      "image/png": "[encoded data removed]",
      "text/plain": [
       "<Figure size 432x288 with 1 Axes>"
      ]
     },
     "metadata": {
      "needs_background": "light"
     },
     "output_type": "display_data"
    }
   ],
   "source": [
    "import numpy as np\n",
    "from sklearn.cluster import KMeans\n",
    "from sklearn import metrics\n",
    "import matplotlib.pyplot as plt\n",
    "\n",
    "x1 = np.array([1,2,3,1,5,6,5,5,6,7,8,9,7,9])\n",
    "x2 = np.array([1,3,2,2,8,6,7,6,7,1,2,1,1,3])\n",
    "\n",
    "#1次元目をx1，2次元目をx2とする行列を作成\n",
    "x = np.c_[x1, x2]\n",
    "\n",
    "#x軸とy軸の幅を設定する\n",
    "plt.xlim([0, 10])\n",
    "plt.ylim([0, 10])\n",
    "plt.title('data')\n",
    "#散布図を作成\n",
    "plt.scatter(x1, x2)\n",
    "plt.show()"
   ]
  },
  {
   "cell_type": "code",
   "execution_count": 2,
   "metadata": {},
   "outputs": [
    {
     "name": "stdout",
     "output_type": "stream",
     "text": [
      "[1 1 1 1 2 2 2 2 2 0 0 0 0 0]\n"
     ]
    }
   ],
   "source": [
    "kmeans = KMeans(n_clusters=3)\n",
    "kmeans_model = kmeans.fit(x)\n",
    "print(kmeans_model.labels_)"
   ]
  },
  {
   "cell_type": "code",
   "execution_count": 3,
   "metadata": {},
   "outputs": [
    {
     "data": {
      "image/png": "[encoded data removed]",
      "text/plain": [
       "<Figure size 432x288 with 1 Axes>"
      ]
     },
     "metadata": {
      "needs_background": "light"
     },
     "output_type": "display_data"
    }
   ],
   "source": [
    "colors = ['b','g','y']\n",
    "markers = ['o','s','D']\n",
    "\n",
    "for i, l in enumerate(kmeans_model.labels_):\n",
    "    # lsはlinestyleの略で、Noneを指定すると線を非表示にしています。\n",
    "    # https://matplotlib.org/api/_as_gen/matplotlib.lines.Line2D.html#matplotlib.lines.Line2D.set_linestyle\n",
    "    plt.plot(x1[i],x2[i], color=colors[l],marker=markers[l], ls='None')\n",
    "    plt.xlim([0, 10])\n",
    "    plt.ylim([0, 10])\n",
    "plt.show()"
   ]
  },
  {
   "cell_type": "code",
   "execution_count": null,
   "metadata": {},
   "outputs": [],
   "source": []
  }
 ],
 "metadata": {
  "kernelspec": {
   "display_name": "Python 3",
   "language": "python",
   "name": "python3"
  },
  "language_info": {
   "codemirror_mode": {
    "name": "ipython",
    "version": 3
   },
   "file_extension": ".py",
   "mimetype": "text/x-python",
   "name": "python",
   "nbconvert_exporter": "python",
   "pygments_lexer": "ipython3",
   "version": "3.7.6"
  }
 },
 "nbformat": 4,
 "nbformat_minor": 4
}
