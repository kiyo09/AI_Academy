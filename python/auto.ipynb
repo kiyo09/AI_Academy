{
 "cells": [
  {
   "cell_type": "code",
   "execution_count": 3,
   "metadata": {},
   "outputs": [
    {
     "name": "stdout",
     "output_type": "stream",
     "text": [
      "今日の運勢は．．． 大凶\n"
     ]
    }
   ],
   "source": [
    "import fortune\n",
    "result = fortune.get_fortune()\n",
    "print(\"今日の運勢は．．．\", result)"
   ]
  },
  {
   "cell_type": "code",
   "execution_count": 5,
   "metadata": {},
   "outputs": [],
   "source": [
    "import sys, os"
   ]
  },
  {
   "cell_type": "code",
   "execution_count": 6,
   "metadata": {},
   "outputs": [
    {
     "data": {
      "text/plain": [
       "0.5403023058681398"
      ]
     },
     "execution_count": 6,
     "metadata": {},
     "output_type": "execute_result"
    }
   ],
   "source": [
    "import math\n",
    "math.cos(1)"
   ]
  },
  {
   "cell_type": "code",
   "execution_count": 7,
   "metadata": {},
   "outputs": [],
   "source": [
    "import calendar"
   ]
  },
  {
   "cell_type": "code",
   "execution_count": 9,
   "metadata": {},
   "outputs": [
    {
     "data": {
      "text/plain": [
       "<bound method TextCalendar.formatyear of <calendar.TextCalendar object at 0x104c5d9d0>>"
      ]
     },
     "execution_count": 9,
     "metadata": {},
     "output_type": "execute_result"
    }
   ],
   "source": [
    "calendar.calendar"
   ]
  },
  {
   "cell_type": "code",
   "execution_count": 11,
   "metadata": {},
   "outputs": [
    {
     "name": "stdout",
     "output_type": "stream",
     "text": [
      "    January 2020\n",
      "Mo Tu We Th Fr Sa Su\n",
      "       1  2  3  4  5\n",
      " 6  7  8  9 10 11 12\n",
      "13 14 15 16 17 18 19\n",
      "20 21 22 23 24 25 26\n",
      "27 28 29 30 31\n",
      "\n"
     ]
    }
   ],
   "source": [
    "print(calendar.month(2020, 1))"
   ]
  },
  {
   "cell_type": "code",
   "execution_count": 13,
   "metadata": {},
   "outputs": [
    {
     "name": "stdout",
     "output_type": "stream",
     "text": [
      "title: AI Academy（エーアイ アカデミー）\n",
      "body: \n",
      "AI Academyとは？（エーアイ アカデミーとは？）\n",
      "人工知能プログラミングに特化したマンツーマン オンラインプログラミングスクールです。\n",
      "プログラミング言語Pythonを使いながら、機械学習や深層学習などを学習します。\n",
      "\n"
     ]
    }
   ],
   "source": [
    "from bs4 import BeautifulSoup\n",
    "from urllib.request import urlopen\n",
    "html = urlopen(\"https://aiacademy.jp/assets/scraping/sample1.html\")\n",
    "data = html.read()\n",
    "html = data.decode('utf-8')\n",
    "\n",
    "soup = BeautifulSoup(html, 'html.parser')\n",
    "\n",
    "title = soup.find('title')\n",
    "body = soup.find('body')\n",
    "\n",
    "print('title: ' + title.text)\n",
    "print('body: ' + body.text)"
   ]
  },
  {
   "cell_type": "code",
   "execution_count": 17,
   "metadata": {},
   "outputs": [
    {
     "name": "stdout",
     "output_type": "stream",
     "text": [
      "\n",
      "\n",
      "\n",
      "\n",
      "\n",
      "\n",
      "\n",
      "2020年3月31日 【2020年版・初心者向け】独学でAIエンジニアになりたい人向けのオススメの勉強方法\n",
      "\n",
      "\n",
      "機械学習 \n",
      "\n",
      "\n",
      "\n",
      "\n",
      "\n",
      "\n",
      "2020年3月4日 無料で学べるAIプログラミング学習サービスAI Academy[エーアイアカデミー]\n",
      "\n",
      "\n",
      "プログラミング \n",
      "\n",
      "\n",
      "\n",
      "\n",
      "\n",
      "\n",
      "2020年2月24日 AIスクール | AI Academy Bootcampのご紹介\n",
      "\n",
      "\n",
      "プログラミング \n",
      "\n",
      "\n",
      "\n",
      "\n",
      "\n",
      "\n",
      "2020年2月4日 運営情報について\n",
      "\n",
      "\n",
      "運営情報 \n",
      "\n",
      "\n",
      "\n",
      "\n",
      "\n",
      "\n",
      "2020年2月3日 【AI法人研修】 法人向けAI人材研修サービス『AI Academy Business』β版提供による先行登録開始　\n",
      "\n",
      "\n",
      "お知らせ \n",
      "\n",
      "\n",
      "\n",
      "\n",
      "\n",
      "\n",
      "2020年1月24日 Pythonと機械学習を活用し、花の種類を判定するWebアプリケーションを作ろう！\n",
      "\n",
      "\n",
      "Python \n",
      "\n",
      "\n",
      "\n",
      "\n",
      "\n",
      "\n",
      "2020年1月24日 【機械学習を活用したwebサービスの作り方知りたい方必読！！】どんな技術が必要なのか？\n",
      "\n",
      "\n",
      "プログラミング \n",
      "\n",
      "\n",
      "\n",
      "\n",
      "\n",
      "\n",
      "2020年1月24日 PythonとSeleniumを使って、Twitterに自動でログインしてみよう！\n",
      "\n",
      "\n",
      "Python \n",
      "\n",
      "\n",
      "\n",
      "\n",
      "\n",
      "\n",
      "2020年1月24日 Pythonで画像データを手軽に収集したい方必読！　icrawler入門\n",
      "\n",
      "\n",
      "Webスクレイピング \n",
      "\n",
      "\n",
      "\n",
      "\n",
      "\n",
      "\n",
      "2020年1月24日 Selenium入門 Pythonでブラウザを自動化したい方必読！\n",
      "\n",
      "\n",
      "Webスクレイピング \n",
      "\n"
     ]
    }
   ],
   "source": [
    "from bs4 import BeautifulSoup\n",
    "from urllib.request import urlopen\n",
    "\n",
    "target_url = \"https://aiacademy.jp/media\"\n",
    "\n",
    "html = urlopen(target_url)\n",
    "data = html.read()\n",
    "html = data.decode('utf-8')\n",
    "\n",
    "soup = BeautifulSoup(html, 'html.parser')\n",
    "\n",
    "data = soup.select(\"#main > div\")\n",
    "print(data[0].text)"
   ]
  },
  {
   "cell_type": "code",
   "execution_count": null,
   "metadata": {},
   "outputs": [],
   "source": []
  }
 ],
 "metadata": {
  "kernelspec": {
   "display_name": "Python 3",
   "language": "python",
   "name": "python3"
  },
  "language_info": {
   "codemirror_mode": {
    "name": "ipython",
    "version": 3
   },
   "file_extension": ".py",
   "mimetype": "text/x-python",
   "name": "python",
   "nbconvert_exporter": "python",
   "pygments_lexer": "ipython3",
   "version": "3.7.6"
  }
 },
 "nbformat": 4,
 "nbformat_minor": 4
}
