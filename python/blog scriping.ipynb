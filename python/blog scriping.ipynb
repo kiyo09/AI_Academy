{
 "cells": [
  {
   "cell_type": "code",
   "execution_count": 2,
   "metadata": {},
   "outputs": [
    {
     "name": "stdout",
     "output_type": "stream",
     "text": [
      "<h2 class=\"fruit\">フルーツの一覧</h2>\n"
     ]
    }
   ],
   "source": [
    "from bs4 import BeautifulSoup\n",
    "\n",
    "# HTMLをpythonの変数として格納\n",
    "basehtml = '''\n",
    "<h1>フルーツの一覧</h1>\n",
    "<ul>\n",
    "<li>りんご</li>\n",
    "<li>みかん</li>\n",
    "<li>バナナ</li>\n",
    "</ul>\n",
    "'''\n",
    "\n",
    "# HTMLテキストを「html.parser」を使って解析\n",
    "soup = BeautifulSoup(basehtml,\"html.parser\")\n",
    "\n",
    "# 解析したテキスト「soup」からH1タグ情報を見つける\n",
    "title = soup.find(\"h1\")\n",
    "title.name = \"h2\" # タグをh2要素に変更\n",
    "title[\"class\"] = \"fruit\" # fruitという名前のclassを付与\n",
    "\n",
    "# H1情報を出力\n",
    "print(title)"
   ]
  },
  {
   "cell_type": "code",
   "execution_count": null,
   "metadata": {},
   "outputs": [],
   "source": [
    "import urllib.request, urllib.error\n",
    "from bs4 import BeautifulSoup(html, 'html.parser')"
   ]
  }
 ],
 "metadata": {
  "kernelspec": {
   "display_name": "Python 3",
   "language": "python",
   "name": "python3"
  },
  "language_info": {
   "codemirror_mode": {
    "name": "ipython",
    "version": 3
   },
   "file_extension": ".py",
   "mimetype": "text/x-python",
   "name": "python",
   "nbconvert_exporter": "python",
   "pygments_lexer": "ipython3",
   "version": "3.7.6"
  }
 },
 "nbformat": 4,
 "nbformat_minor": 4
}
