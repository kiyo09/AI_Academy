{
 "cells": [
  {
   "cell_type": "code",
   "execution_count": 2,
   "metadata": {},
   "outputs": [
    {
     "name": "stdout",
     "output_type": "stream",
     "text": [
      "<h2 class=\"fruit\">フルーツの一覧</h2>\n"
     ]
    }
   ],
   "source": [
    "from bs4 import BeautifulSoup\n",
    "\n",
    "# HTMLをpythonの変数として格納\n",
    "basehtml = '''\n",
    "<h1>フルーツの一覧</h1>\n",
    "<ul>\n",
    "<li>りんご</li>\n",
    "<li>みかん</li>\n",
    "<li>バナナ</li>\n",
    "</ul>\n",
    "'''\n",
    "\n",
    "# HTMLテキストを「html.parser」を使って解析\n",
    "soup = BeautifulSoup(basehtml,\"html.parser\")\n",
    "\n",
    "# 解析したテキスト「soup」からH1タグ情報を見つける\n",
    "title = soup.find(\"h1\")\n",
    "title.name = \"h2\" # タグをh2要素に変更\n",
    "title[\"class\"] = \"fruit\" # fruitという名前のclassを付与\n",
    "\n",
    "# H1情報を出力\n",
    "print(title)"
   ]
  },
  {
   "cell_type": "code",
   "execution_count": 6,
   "metadata": {},
   "outputs": [
    {
     "name": "stdout",
     "output_type": "stream",
     "text": [
      "<title>Yahoo! JAPAN</title>\n",
      "あなたの毎日をアップデートする情報ポータル。検索、ニュース、天気、スポーツ、メール、ショッピング、オークションなど便利なサービスを展開しています。\n"
     ]
    }
   ],
   "source": [
    "# import urllib2ではなく下記の文言を使用\n",
    "import urllib.request, urllib.error\n",
    "from bs4 import BeautifulSoup\n",
    "\n",
    "# アクセスするURL\n",
    "url = \"https://www.yahoo.co.jp/\"\n",
    "# URLを開く\n",
    "html = urllib.request.urlopen(url)\n",
    "# BeautifulSoupで開く\n",
    "soup = BeautifulSoup(html, \"html.parser\")\n",
    "\n",
    "\n",
    "\n",
    "title_tag = soup.title\n",
    "# titleタグの出力。Python3ではprint(変数)と記述する\n",
    "print(title_tag)\n",
    "\n",
    "\n",
    "desc_tag = soup.find(attrs={'name' : 'description'})\n",
    "\n",
    "desc_txt = desc_tag['content']\n",
    "\n",
    "print(desc_txt)"
   ]
  },
  {
   "cell_type": "code",
   "execution_count": 8,
   "metadata": {},
   "outputs": [],
   "source": [
    "import csv\n",
    "\n",
    "# アクセスするURL\n",
    "url = \"https://mainichi.jp/\"\n",
    "# URLを開く\n",
    "html = urllib.request.urlopen(url)\n",
    "# BeautifulSoupで開く\n",
    "soup = BeautifulSoup(html, \"html.parser\")\n",
    "\n",
    "# HTMLからニュース一覧に使用しているaタグを絞りこんでいく\n",
    "tag_mainbox = soup.select_one(\".main-box\")\n",
    "tag_listA = tag_mainbox.select_one(\".list-typeA\")\n",
    "news_tag = tag_listA.findAll(\"a\")\n",
    "# 配列の作成。\n",
    "csvlist = []\n",
    "for news_txt in news_tag:\n",
    "    news_txt = news_txt.text\n",
    "    csvlist.append(news_txt)\n",
    "\n",
    "# CSVファイルを開く。ファイルがなければ新規作成する。\n",
    "f = open(\"output.csv\", \"w\")\n",
    "writecsv = csv.writer(f, lineterminator='\\n')\n",
    "\n",
    "# 出力\n",
    "writecsv.writerow(csvlist)\n",
    "\n",
    "# CSVファイルを閉じる。\n",
    "f.close()"
   ]
  },
  {
   "cell_type": "code",
   "execution_count": null,
   "metadata": {},
   "outputs": [],
   "source": []
  }
 ],
 "metadata": {
  "kernelspec": {
   "display_name": "Python 3",
   "language": "python",
   "name": "python3"
  },
  "language_info": {
   "codemirror_mode": {
    "name": "ipython",
    "version": 3
   },
   "file_extension": ".py",
   "mimetype": "text/x-python",
   "name": "python",
   "nbconvert_exporter": "python",
   "pygments_lexer": "ipython3",
   "version": "3.7.6"
  }
 },
 "nbformat": 4,
 "nbformat_minor": 4
}
