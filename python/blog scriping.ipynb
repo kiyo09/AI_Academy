{
 "cells": [
  {
   "cell_type": "code",
   "execution_count": 2,
   "metadata": {},
   "outputs": [
    {
     "name": "stdout",
     "output_type": "stream",
     "text": [
      "<h2 class=\"fruit\">フルーツの一覧</h2>\n"
     ]
    }
   ],
   "source": [
    "from bs4 import BeautifulSoup\n",
    "\n",
    "# HTMLをpythonの変数として格納\n",
    "basehtml = '''\n",
    "<h1>フルーツの一覧</h1>\n",
    "<ul>\n",
    "<li>りんご</li>\n",
    "<li>みかん</li>\n",
    "<li>バナナ</li>\n",
    "</ul>\n",
    "'''\n",
    "\n",
    "# HTMLテキストを「html.parser」を使って解析\n",
    "soup = BeautifulSoup(basehtml,\"html.parser\")\n",
    "\n",
    "# 解析したテキスト「soup」からH1タグ情報を見つける\n",
    "title = soup.find(\"h1\")\n",
    "title.name = \"h2\" # タグをh2要素に変更\n",
    "title[\"class\"] = \"fruit\" # fruitという名前のclassを付与\n",
    "\n",
    "# H1情報を出力\n",
    "print(title)"
   ]
  },
  {
   "cell_type": "code",
   "execution_count": 6,
   "metadata": {},
   "outputs": [
    {
     "name": "stdout",
     "output_type": "stream",
     "text": [
      "<title>Yahoo! JAPAN</title>\n",
      "あなたの毎日をアップデートする情報ポータル。検索、ニュース、天気、スポーツ、メール、ショッピング、オークションなど便利なサービスを展開しています。\n"
     ]
    }
   ],
   "source": [
    "# import urllib2ではなく下記の文言を使用\n",
    "import urllib.request, urllib.error\n",
    "from bs4 import BeautifulSoup\n",
    "\n",
    "# アクセスするURL\n",
    "url = \"https://www.yahoo.co.jp/\"\n",
    "# URLを開く\n",
    "html = urllib.request.urlopen(url)\n",
    "# BeautifulSoupで開く\n",
    "soup = BeautifulSoup(html, \"html.parser\")\n",
    "\n",
    "\n",
    "\n",
    "title_tag = soup.title\n",
    "# titleタグの出力。Python3ではprint(変数)と記述する\n",
    "print(title_tag)\n",
    "\n",
    "\n",
    "desc_tag = soup.find(attrs={'name' : 'description'})\n",
    "\n",
    "desc_txt = desc_tag['content']\n",
    "\n",
    "print(desc_txt)"
   ]
  },
  {
   "cell_type": "code",
   "execution_count": 8,
   "metadata": {},
   "outputs": [],
   "source": [
    "import csv\n",
    "\n",
    "# アクセスするURL\n",
    "url = \"https://mainichi.jp/\"\n",
    "# URLを開く\n",
    "html = urllib.request.urlopen(url)\n",
    "# BeautifulSoupで開く\n",
    "soup = BeautifulSoup(html, \"html.parser\")\n",
    "\n",
    "# HTMLからニュース一覧に使用しているaタグを絞りこんでいく\n",
    "tag_mainbox = soup.select_one(\".main-box\")\n",
    "tag_listA = tag_mainbox.select_one(\".list-typeA\")\n",
    "news_tag = tag_listA.findAll(\"a\")\n",
    "# 配列の作成。\n",
    "csvlist = []\n",
    "for news_txt in news_tag:\n",
    "    news_txt = news_txt.text\n",
    "    csvlist.append(news_txt)\n",
    "\n",
    "# CSVファイルを開く。ファイルがなければ新規作成する。\n",
    "f = open(\"output.csv\", \"w\")\n",
    "writecsv = csv.writer(f, lineterminator='\\n')\n",
    "\n",
    "# 出力\n",
    "writecsv.writerow(csvlist)\n",
    "\n",
    "# CSVファイルを閉じる。\n",
    "f.close()"
   ]
  },
  {
   "cell_type": "code",
   "execution_count": 10,
   "metadata": {},
   "outputs": [],
   "source": [
    "# アクセスするURL\n",
    "url = \"https://mainichi.jp/\"\n",
    "# URLを開く\n",
    "html = urllib.request.urlopen(url)\n",
    "# BeautifulSoupで開く\n",
    "soup = BeautifulSoup(html, \"html.parser\")\n",
    "\n",
    "# HTMLからニュース一覧に使用しているaタグを絞りこんでいく\n",
    "tag_mainbox = soup.select_one(\".main-box\")\n",
    "tag_listA = tag_mainbox.select_one(\".list-typeA\")\n",
    "news_tag = tag_listA.findAll(\"a\")\n",
    "# 配列の作成。表の見出し部分の情報を入力しておく。\n",
    "csvlist = [[\"\",\"ニュースリスト\"]]\n",
    "num = 0\n",
    "for news_txt in news_tag:\n",
    "    news_txt = news_txt.text\n",
    "    csvlist.append([num, news_txt])\n",
    "    num += 1\n",
    "\n",
    "# CSVファイルを開く。ファイルがなければ新規作成する。\n",
    "f = open(\"output.csv\", \"w\")\n",
    "writecsv = csv.writer(f, lineterminator='\\n')\n",
    "\n",
    "# 出力\n",
    "writecsv.writerows(csvlist)\n",
    "\n",
    "# CSVファイルを閉じる。\n",
    "f.close()\n"
   ]
  },
  {
   "cell_type": "code",
   "execution_count": 12,
   "metadata": {},
   "outputs": [
    {
     "name": "stdout",
     "output_type": "stream",
     "text": [
      "[<div class=\"u_areaListRankingBox row\">\n",
      "<div class=\"u_title col s12\">\n",
      "<p><h2><span class=\"badge\">1</span>観光地 1</h2></p>\n",
      "</div>\n",
      "<!-- 観光地イメージ -->\n",
      "<div class=\"place_img col s12\">\n",
      "<img alt=\"\" src=\"/static/assets/img/img1.JPG\"/>\n",
      "</div>\n",
      "<!-- 総合評価 -->\n",
      "<div class=\"u_rankBox col s12\">\n",
      "<span style=\"--rate: 94.0%;\"></span><span class=\"evaluateNumber\">4.7</span><br/>\n",
      "</div>\n",
      "<!-- 各カテゴリ評価 -->\n",
      "<div class=\"u_categoryTipsItem col s12\">\n",
      "<dl>\n",
      "<dt>楽しさ</dt>\n",
      "<dd class=\"is_rank\"><span class=\"evaluateNumber\">4.6</span></dd>\n",
      "<dd class=\"comment\">とてもエンジョイした</dd>\n",
      "</dl>\n",
      "<dl>\n",
      "<dt>人混みの多さ</dt>\n",
      "<dd class=\"is_rank\"><span class=\"evaluateNumber\">4.5</span></dd>\n",
      "<dd class=\"comment\">非常に空いていた</dd>\n",
      "</dl>\n",
      "<dl>\n",
      "<dt>景色</dt>\n",
      "<dd class=\"is_rank\"><span class=\"evaluateNumber\">4.9</span></dd>\n",
      "<dd class=\"comment\">景色に魅了された</dd>\n",
      "</dl>\n",
      "<dl>\n",
      "<dt>アクセス</dt>\n",
      "<dd class=\"is_rank\"><span class=\"evaluateNumber\">4.2</span></dd>\n",
      "<dd class=\"comment\">船で2時間ほどであった</dd>\n",
      "</dl>\n",
      "</div>\n",
      "<div class=\"divider\">\n",
      "</div>\n",
      "</div>, <div class=\"u_areaListRankingBox row\">\n",
      "<div class=\"u_title col s12\">\n",
      "<p><h2><span class=\"badge\">2</span>観光地 2</h2></p>\n",
      "</div>\n",
      "<!-- 観光地イメージ -->\n",
      "<div class=\"place_img col s12\">\n",
      "<img alt=\"\" src=\"/static/assets/img/img2.JPG\"/>\n",
      "</div>\n",
      "<!-- 総合評価 -->\n",
      "<div class=\"u_rankBox col s12\">\n",
      "<span style=\"--rate: 94.0%;\"></span><span class=\"evaluateNumber\">4.7</span><br/>\n",
      "</div>\n",
      "<!-- 各カテゴリ評価 -->\n",
      "<div class=\"u_categoryTipsItem col s12\">\n",
      "<dl>\n",
      "<dt>楽しさ</dt>\n",
      "<dd class=\"is_rank\"><span class=\"evaluateNumber\">4.6</span></dd>\n",
      "<dd class=\"comment\">楽しくて帰りたくなかった</dd>\n",
      "</dl>\n",
      "<dl>\n",
      "<dt>人混みの多さ</dt>\n",
      "<dd class=\"is_rank\"><span class=\"evaluateNumber\">4.5</span></dd>\n",
      "<dd class=\"comment\">非常に混んでいた</dd>\n",
      "</dl>\n",
      "<dl>\n",
      "<dt>景色</dt>\n",
      "<dd class=\"is_rank\"><span class=\"evaluateNumber\">4.9</span></dd>\n",
      "<dd class=\"comment\">山頂からの景色は絶景であった</dd>\n",
      "</dl>\n",
      "<dl>\n",
      "<dt>アクセス</dt>\n",
      "<dd class=\"is_rank\"><span class=\"evaluateNumber\">4.2</span></dd>\n",
      "<dd class=\"comment\">飛行機で1時間ほどで着きました</dd>\n",
      "</dl>\n",
      "</div>\n",
      "<div class=\"divider\">\n",
      "</div>\n",
      "</div>, <div class=\"u_areaListRankingBox row\">\n",
      "<div class=\"u_title col s12\">\n",
      "<p><h2><span class=\"badge\">3</span>観光地 3</h2></p>\n",
      "</div>\n",
      "<!-- 観光地イメージ -->\n",
      "<div class=\"place_img col s12\">\n",
      "<img alt=\"\" src=\"/static/assets/img/img3.JPG\"/>\n",
      "</div>\n",
      "<!-- 総合評価 -->\n",
      "<div class=\"u_rankBox col s12\">\n",
      "<span style=\"--rate: 91.99999999999999%;\"></span><span class=\"evaluateNumber\">4.6</span><br/>\n",
      "</div>\n",
      "<!-- 各カテゴリ評価 -->\n",
      "<div class=\"u_categoryTipsItem col s12\">\n",
      "<dl>\n",
      "<dt>楽しさ</dt>\n",
      "<dd class=\"is_rank\"><span class=\"evaluateNumber\">4.5</span></dd>\n",
      "<dd class=\"comment\">満喫できた</dd>\n",
      "</dl>\n",
      "<dl>\n",
      "<dt>人混みの多さ</dt>\n",
      "<dd class=\"is_rank\"><span class=\"evaluateNumber\">4.4</span></dd>\n",
      "<dd class=\"comment\">時間帯によって混雑具合は違った</dd>\n",
      "</dl>\n",
      "<dl>\n",
      "<dt>景色</dt>\n",
      "<dd class=\"is_rank\"><span class=\"evaluateNumber\">4.8</span></dd>\n",
      "<dd class=\"comment\">自然の素晴らしさを味わった</dd>\n",
      "</dl>\n",
      "<dl>\n",
      "<dt>アクセス</dt>\n",
      "<dd class=\"is_rank\"><span class=\"evaluateNumber\">4.1</span></dd>\n",
      "<dd class=\"comment\">渋滞に巻き込まれて3時間以上かかった</dd>\n",
      "</dl>\n",
      "</div>\n",
      "<div class=\"divider\">\n",
      "</div>\n",
      "</div>, <div class=\"u_areaListRankingBox row\">\n",
      "<div class=\"u_title col s12\">\n",
      "<p><h2><span class=\"badge\">4</span>観光地 4</h2></p>\n",
      "</div>\n",
      "<!-- 観光地イメージ -->\n",
      "<div class=\"place_img col s12\">\n",
      "<img alt=\"\" src=\"/static/assets/img/img4.JPG\"/>\n",
      "</div>\n",
      "<!-- 総合評価 -->\n",
      "<div class=\"u_rankBox col s12\">\n",
      "<span style=\"--rate: 90.0%;\"></span><span class=\"evaluateNumber\">4.5</span><br/>\n",
      "</div>\n",
      "<!-- 各カテゴリ評価 -->\n",
      "<div class=\"u_categoryTipsItem col s12\">\n",
      "<dl>\n",
      "<dt>楽しさ</dt>\n",
      "<dd class=\"is_rank\"><span class=\"evaluateNumber\">4.4</span></dd>\n",
      "<dd class=\"comment\">楽しくて帰りたくなかった</dd>\n",
      "</dl>\n",
      "<dl>\n",
      "<dt>人混みの多さ</dt>\n",
      "<dd class=\"is_rank\"><span class=\"evaluateNumber\">4.4</span></dd>\n",
      "<dd class=\"comment\">まぁまぁ混んでいた</dd>\n",
      "</dl>\n",
      "<dl>\n",
      "<dt>景色</dt>\n",
      "<dd class=\"is_rank\"><span class=\"evaluateNumber\">4.8</span></dd>\n",
      "<dd class=\"comment\">目を疑う超絶景であった</dd>\n",
      "</dl>\n",
      "<dl>\n",
      "<dt>アクセス</dt>\n",
      "<dd class=\"is_rank\"><span class=\"evaluateNumber\">4.0</span></dd>\n",
      "<dd class=\"comment\">交通の便が悪かった</dd>\n",
      "</dl>\n",
      "</div>\n",
      "<div class=\"divider\">\n",
      "</div>\n",
      "</div>, <div class=\"u_areaListRankingBox row\">\n",
      "<div class=\"u_title col s12\">\n",
      "<p><h2><span class=\"badge\">5</span>観光地 5</h2></p>\n",
      "</div>\n",
      "<!-- 観光地イメージ -->\n",
      "<div class=\"place_img col s12\">\n",
      "<img alt=\"\" src=\"/static/assets/img/img5.JPG\"/>\n",
      "</div>\n",
      "<!-- 総合評価 -->\n",
      "<div class=\"u_rankBox col s12\">\n",
      "<span style=\"--rate: 90.0%;\"></span><span class=\"evaluateNumber\">4.5</span><br/>\n",
      "</div>\n",
      "<!-- 各カテゴリ評価 -->\n",
      "<div class=\"u_categoryTipsItem col s12\">\n",
      "<dl>\n",
      "<dt>楽しさ</dt>\n",
      "<dd class=\"is_rank\"><span class=\"evaluateNumber\">4.4</span></dd>\n",
      "<dd class=\"comment\">満喫できた</dd>\n",
      "</dl>\n",
      "<dl>\n",
      "<dt>人混みの多さ</dt>\n",
      "<dd class=\"is_rank\"><span class=\"evaluateNumber\">4.3</span></dd>\n",
      "<dd class=\"comment\">空いていた</dd>\n",
      "</dl>\n",
      "<dl>\n",
      "<dt>景色</dt>\n",
      "<dd class=\"is_rank\"><span class=\"evaluateNumber\">4.7</span></dd>\n",
      "<dd class=\"comment\">時を忘れるような壮大さであった</dd>\n",
      "</dl>\n",
      "<dl>\n",
      "<dt>アクセス</dt>\n",
      "<dd class=\"is_rank\"><span class=\"evaluateNumber\">4.0</span></dd>\n",
      "<dd class=\"comment\">渋滞に巻き込まれて3時間以上かかった</dd>\n",
      "</dl>\n",
      "</div>\n",
      "<div class=\"divider\">\n",
      "</div>\n",
      "</div>, <div class=\"u_areaListRankingBox row\">\n",
      "<div class=\"u_title col s12\">\n",
      "<p><h2><span class=\"badge\">6</span>観光地 6</h2></p>\n",
      "</div>\n",
      "<!-- 観光地イメージ -->\n",
      "<div class=\"place_img col s12\">\n",
      "<img alt=\"\" src=\"/static/assets/img/img6.JPG\"/>\n",
      "</div>\n",
      "<!-- 総合評価 -->\n",
      "<div class=\"u_rankBox col s12\">\n",
      "<span style=\"--rate: 88.00000000000001%;\"></span><span class=\"evaluateNumber\">4.4</span><br/>\n",
      "</div>\n",
      "<!-- 各カテゴリ評価 -->\n",
      "<div class=\"u_categoryTipsItem col s12\">\n",
      "<dl>\n",
      "<dt>楽しさ</dt>\n",
      "<dd class=\"is_rank\"><span class=\"evaluateNumber\">4.3</span></dd>\n",
      "<dd class=\"comment\">また行きたいと思える場所でした！！</dd>\n",
      "</dl>\n",
      "<dl>\n",
      "<dt>人混みの多さ</dt>\n",
      "<dd class=\"is_rank\"><span class=\"evaluateNumber\">4.3</span></dd>\n",
      "<dd class=\"comment\">非常に空いていた</dd>\n",
      "</dl>\n",
      "<dl>\n",
      "<dt>景色</dt>\n",
      "<dd class=\"is_rank\"><span class=\"evaluateNumber\">4.7</span></dd>\n",
      "<dd class=\"comment\">景色に魅了された</dd>\n",
      "</dl>\n",
      "<dl>\n",
      "<dt>アクセス</dt>\n",
      "<dd class=\"is_rank\"><span class=\"evaluateNumber\">3.9</span></dd>\n",
      "<dd class=\"comment\">飛行機で1時間ほどで着きました</dd>\n",
      "</dl>\n",
      "</div>\n",
      "<div class=\"divider\">\n",
      "</div>\n",
      "</div>, <div class=\"u_areaListRankingBox row\">\n",
      "<div class=\"u_title col s12\">\n",
      "<p><h2><span class=\"badge\">7</span>観光地 7</h2></p>\n",
      "</div>\n",
      "<!-- 観光地イメージ -->\n",
      "<div class=\"place_img col s12\">\n",
      "<img alt=\"\" src=\"/static/assets/img/img7.JPG\"/>\n",
      "</div>\n",
      "<!-- 総合評価 -->\n",
      "<div class=\"u_rankBox col s12\">\n",
      "<span style=\"--rate: 86.0%;\"></span><span class=\"evaluateNumber\">4.3</span><br/>\n",
      "</div>\n",
      "<!-- 各カテゴリ評価 -->\n",
      "<div class=\"u_categoryTipsItem col s12\">\n",
      "<dl>\n",
      "<dt>楽しさ</dt>\n",
      "<dd class=\"is_rank\"><span class=\"evaluateNumber\">4.2</span></dd>\n",
      "<dd class=\"comment\">THE非日常</dd>\n",
      "</dl>\n",
      "<dl>\n",
      "<dt>人混みの多さ</dt>\n",
      "<dd class=\"is_rank\"><span class=\"evaluateNumber\">4.2</span></dd>\n",
      "<dd class=\"comment\">お昼の時間はかなり混んでいた</dd>\n",
      "</dl>\n",
      "<dl>\n",
      "<dt>景色</dt>\n",
      "<dd class=\"is_rank\"><span class=\"evaluateNumber\">4.6</span></dd>\n",
      "<dd class=\"comment\">信じられないような絶景であった</dd>\n",
      "</dl>\n",
      "<dl>\n",
      "<dt>アクセス</dt>\n",
      "<dd class=\"is_rank\"><span class=\"evaluateNumber\">3.8</span></dd>\n",
      "<dd class=\"comment\">交通の便が悪かった</dd>\n",
      "</dl>\n",
      "</div>\n",
      "<div class=\"divider\">\n",
      "</div>\n",
      "</div>, <div class=\"u_areaListRankingBox row\">\n",
      "<div class=\"u_title col s12\">\n",
      "<p><h2><span class=\"badge\">8</span>観光地 8</h2></p>\n",
      "</div>\n",
      "<!-- 観光地イメージ -->\n",
      "<div class=\"place_img col s12\">\n",
      "<img alt=\"\" src=\"/static/assets/img/img8.JPG\"/>\n",
      "</div>\n",
      "<!-- 総合評価 -->\n",
      "<div class=\"u_rankBox col s12\">\n",
      "<span style=\"--rate: 86.0%;\"></span><span class=\"evaluateNumber\">4.3</span><br/>\n",
      "</div>\n",
      "<!-- 各カテゴリ評価 -->\n",
      "<div class=\"u_categoryTipsItem col s12\">\n",
      "<dl>\n",
      "<dt>楽しさ</dt>\n",
      "<dd class=\"is_rank\"><span class=\"evaluateNumber\">4.2</span></dd>\n",
      "<dd class=\"comment\">THE非日常</dd>\n",
      "</dl>\n",
      "<dl>\n",
      "<dt>人混みの多さ</dt>\n",
      "<dd class=\"is_rank\"><span class=\"evaluateNumber\">4.2</span></dd>\n",
      "<dd class=\"comment\">非常に混んでいた</dd>\n",
      "</dl>\n",
      "<dl>\n",
      "<dt>景色</dt>\n",
      "<dd class=\"is_rank\"><span class=\"evaluateNumber\">4.6</span></dd>\n",
      "<dd class=\"comment\">自然の素晴らしさを味わった</dd>\n",
      "</dl>\n",
      "<dl>\n",
      "<dt>アクセス</dt>\n",
      "<dd class=\"is_rank\"><span class=\"evaluateNumber\">3.8</span></dd>\n",
      "<dd class=\"comment\">船で1時間ほどであった</dd>\n",
      "</dl>\n",
      "</div>\n",
      "<div class=\"divider\">\n",
      "</div>\n",
      "</div>, <div class=\"u_areaListRankingBox row\">\n",
      "<div class=\"u_title col s12\">\n",
      "<p><h2><span class=\"badge\">9</span>観光地 9</h2></p>\n",
      "</div>\n",
      "<!-- 観光地イメージ -->\n",
      "<div class=\"place_img col s12\">\n",
      "<img alt=\"\" src=\"/static/assets/img/img9.JPG\"/>\n",
      "</div>\n",
      "<!-- 総合評価 -->\n",
      "<div class=\"u_rankBox col s12\">\n",
      "<span style=\"--rate: 84.0%;\"></span><span class=\"evaluateNumber\">4.2</span><br/>\n",
      "</div>\n",
      "<!-- 各カテゴリ評価 -->\n",
      "<div class=\"u_categoryTipsItem col s12\">\n",
      "<dl>\n",
      "<dt>楽しさ</dt>\n",
      "<dd class=\"is_rank\"><span class=\"evaluateNumber\">4.1</span></dd>\n",
      "<dd class=\"comment\">一人旅には最適でした</dd>\n",
      "</dl>\n",
      "<dl>\n",
      "<dt>人混みの多さ</dt>\n",
      "<dd class=\"is_rank\"><span class=\"evaluateNumber\">4.1</span></dd>\n",
      "<dd class=\"comment\">まぁまぁ混んでいた</dd>\n",
      "</dl>\n",
      "<dl>\n",
      "<dt>景色</dt>\n",
      "<dd class=\"is_rank\"><span class=\"evaluateNumber\">4.5</span></dd>\n",
      "<dd class=\"comment\">大自然を感じることができた</dd>\n",
      "</dl>\n",
      "<dl>\n",
      "<dt>アクセス</dt>\n",
      "<dd class=\"is_rank\"><span class=\"evaluateNumber\">3.7</span></dd>\n",
      "<dd class=\"comment\">船で2時間ほどであった</dd>\n",
      "</dl>\n",
      "</div>\n",
      "<div class=\"divider\">\n",
      "</div>\n",
      "</div>, <div class=\"u_areaListRankingBox row\">\n",
      "<div class=\"u_title col s12\">\n",
      "<p><h2><span class=\"badge\">10</span>観光地 10</h2></p>\n",
      "</div>\n",
      "<!-- 観光地イメージ -->\n",
      "<div class=\"place_img col s12\">\n",
      "<img alt=\"\" src=\"/static/assets/img/img10.JPG\"/>\n",
      "</div>\n",
      "<!-- 総合評価 -->\n",
      "<div class=\"u_rankBox col s12\">\n",
      "<span style=\"--rate: 81.99999999999999%;\"></span><span class=\"evaluateNumber\">4.1</span><br/>\n",
      "</div>\n",
      "<!-- 各カテゴリ評価 -->\n",
      "<div class=\"u_categoryTipsItem col s12\">\n",
      "<dl>\n",
      "<dt>楽しさ</dt>\n",
      "<dd class=\"is_rank\"><span class=\"evaluateNumber\">4.0</span></dd>\n",
      "<dd class=\"comment\">１日中飽きることなく遊び続けられた</dd>\n",
      "</dl>\n",
      "<dl>\n",
      "<dt>人混みの多さ</dt>\n",
      "<dd class=\"is_rank\"><span class=\"evaluateNumber\">4.1</span></dd>\n",
      "<dd class=\"comment\">時間帯によって混雑具合は違った</dd>\n",
      "</dl>\n",
      "<dl>\n",
      "<dt>景色</dt>\n",
      "<dd class=\"is_rank\"><span class=\"evaluateNumber\">4.4</span></dd>\n",
      "<dd class=\"comment\">海が非常に綺麗であった</dd>\n",
      "</dl>\n",
      "<dl>\n",
      "<dt>アクセス</dt>\n",
      "<dd class=\"is_rank\"><span class=\"evaluateNumber\">3.6</span></dd>\n",
      "<dd class=\"comment\">アクセスはあまり良くなかった</dd>\n",
      "</dl>\n",
      "</div>\n",
      "<div class=\"divider\">\n",
      "</div>\n",
      "</div>]\n"
     ]
    }
   ],
   "source": [
    "url = 'https://scraping-for-beginner.herokuapp.com/ranking/'\n",
    "html = urllib.request.urlopen(url)\n",
    "soup = BeautifulSoup(html, 'html.parser')\n",
    "\n",
    "tag_mainbox = soup.select_one('.row')\n",
    "tag_listA = tag_mainbox.select_one('.u_areaListRankingBox row')\n",
    "\n",
    "quote_elms = soup.find_all('div', {'class': 'u_areaListRankingBox row'})\n",
    "print(quote_elms)"
   ]
  },
  {
   "cell_type": "code",
   "execution_count": null,
   "metadata": {},
   "outputs": [],
   "source": []
  },
  {
   "cell_type": "code",
   "execution_count": 23,
   "metadata": {},
   "outputs": [],
   "source": [
    "# こちらで用意したHTML\n",
    "html_doc = \"\"\"\n",
    "<html><head><title>The Dormouse's story</title></head>\n",
    "<body>\n",
    "<p class=\"title\"><b>The Dormouse's story</b></p>\n",
    "<p class=\"story\">Once upon a time there were three little sisters; and their names were\n",
    "<a href=\"http://example.com/elsie\" class=\"sister\" id=\"link1\">Elsie</a>,\n",
    "<a href=\"http://example.com/lacie\" class=\"sister\" id=\"link2\">Lacie</a> and\n",
    "<a href=\"http://example.com/tillie\" class=\"sister\" id=\"link3\">Tillie</a>;\n",
    "and they lived at the bottom of a well.</p>\n",
    "<p class=\"story\">...</p>\n",
    "\"\"\"\n",
    "# BeautifulSoupの初期化\n",
    "soup = BeautifulSoup(html_doc, 'html.parser') # BeautifulSoupの初期化"
   ]
  },
  {
   "cell_type": "code",
   "execution_count": 24,
   "metadata": {},
   "outputs": [
    {
     "name": "stdout",
     "output_type": "stream",
     "text": [
      "<html>\n",
      " <head>\n",
      "  <title>\n",
      "   The Dormouse's story\n",
      "  </title>\n",
      " </head>\n",
      " <body>\n",
      "  <p class=\"title\">\n",
      "   <b>\n",
      "    The Dormouse's story\n",
      "   </b>\n",
      "  </p>\n",
      "  <p class=\"story\">\n",
      "   Once upon a time there were three little sisters; and their names were\n",
      "   <a class=\"sister\" href=\"http://example.com/elsie\" id=\"link1\">\n",
      "    Elsie\n",
      "   </a>\n",
      "   ,\n",
      "   <a class=\"sister\" href=\"http://example.com/lacie\" id=\"link2\">\n",
      "    Lacie\n",
      "   </a>\n",
      "   and\n",
      "   <a class=\"sister\" href=\"http://example.com/tillie\" id=\"link3\">\n",
      "    Tillie\n",
      "   </a>\n",
      "   ;\n",
      "and they lived at the bottom of a well.\n",
      "  </p>\n",
      "  <p class=\"story\">\n",
      "   ...\n",
      "  </p>\n",
      " </body>\n",
      "</html>\n"
     ]
    }
   ],
   "source": [
    "print(soup.prettify())"
   ]
  },
  {
   "cell_type": "code",
   "execution_count": 30,
   "metadata": {},
   "outputs": [
    {
     "name": "stdout",
     "output_type": "stream",
     "text": [
      "<title>The Dormouse's story</title>\n",
      "The Dormouse's story\n"
     ]
    }
   ],
   "source": [
    "# <title>The Dormouse's story</title>を取得してください。\n",
    "print(soup.title)\n",
    "# The Dormouse's story を取得してください。\n",
    "print(soup.title.string)"
   ]
  },
  {
   "cell_type": "code",
   "execution_count": 33,
   "metadata": {},
   "outputs": [
    {
     "name": "stdout",
     "output_type": "stream",
     "text": [
      "[<a class=\"sister\" href=\"http://example.com/elsie\" id=\"link1\">Elsie</a>, <a class=\"sister\" href=\"http://example.com/lacie\" id=\"link2\">Lacie</a>, <a class=\"sister\" href=\"http://example.com/tillie\" id=\"link3\">Tillie</a>]\n"
     ]
    }
   ],
   "source": [
    "print(soup.find_all('a'))"
   ]
  },
  {
   "cell_type": "code",
   "execution_count": 35,
   "metadata": {},
   "outputs": [
    {
     "name": "stdout",
     "output_type": "stream",
     "text": [
      "<a class=\"sister\" href=\"http://example.com/elsie\" id=\"link1\">Elsie</a>\n",
      "Elsie\n",
      "<a class=\"sister\" href=\"http://example.com/lacie\" id=\"link2\">Lacie</a>\n",
      "Lacie\n",
      "<a class=\"sister\" href=\"http://example.com/tillie\" id=\"link3\">Tillie</a>\n",
      "Tillie\n"
     ]
    }
   ],
   "source": [
    "for atag in soup.find_all(\"a\"):\n",
    "    print(atag)\n",
    "    print(atag.string)"
   ]
  },
  {
   "cell_type": "code",
   "execution_count": 39,
   "metadata": {},
   "outputs": [
    {
     "name": "stdout",
     "output_type": "stream",
     "text": [
      "<a class=\"sister\" href=\"http://example.com/elsie\" id=\"link1\">Elsie</a>\n",
      "<a class=\"sister\" href=\"http://example.com/lacie\" id=\"link2\">Lacie</a>\n",
      "<a class=\"sister\" href=\"http://example.com/tillie\" id=\"link3\">Tillie</a>\n",
      "Elsie\n",
      "Lacie\n",
      "Tillie\n"
     ]
    }
   ],
   "source": [
    "tags = soup.find_all('a')\n",
    "for tag in tags:\n",
    "    print(tag)\n",
    "    \n",
    "for tag in tags:\n",
    "    print(tag.string)"
   ]
  },
  {
   "cell_type": "code",
   "execution_count": 40,
   "metadata": {},
   "outputs": [
    {
     "data": {
      "text/plain": [
       "'http://example.com/elsie'"
      ]
     },
     "execution_count": 40,
     "metadata": {},
     "output_type": "execute_result"
    }
   ],
   "source": [
    "soup.a.get('href')"
   ]
  },
  {
   "cell_type": "code",
   "execution_count": 41,
   "metadata": {},
   "outputs": [
    {
     "name": "stdout",
     "output_type": "stream",
     "text": [
      "http://example.com/elsie\n",
      "http://example.com/lacie\n",
      "http://example.com/tillie\n"
     ]
    }
   ],
   "source": [
    "for link in tags:\n",
    "    print(link.get('href'))"
   ]
  },
  {
   "cell_type": "code",
   "execution_count": 45,
   "metadata": {},
   "outputs": [
    {
     "name": "stdout",
     "output_type": "stream",
     "text": [
      "<html>\n",
      " <head>\n",
      "  <title>\n",
      "   The Dormouse's story\n",
      "  </title>\n",
      " </head>\n",
      " <body>\n",
      "  <p class=\"title\">\n",
      "   <b>\n",
      "    The Dormouse's story\n",
      "   </b>\n",
      "  </p>\n",
      "  <p class=\"story\">\n",
      "   Once upon a time there were three little sisters; and their names were\n",
      "   <a class=\"sister\" href=\"http://example.com/elsie\" id=\"link1\">\n",
      "    Elsie\n",
      "   </a>\n",
      "   ,\n",
      "   <a class=\"sister\" href=\"http://example.com/lacie\" id=\"link2\">\n",
      "    Lacie\n",
      "   </a>\n",
      "   and\n",
      "   <a class=\"sister\" href=\"http://example.com/tillie\" id=\"link3\">\n",
      "    Tillie\n",
      "   </a>\n",
      "   ;\n",
      "and they lived at the bottom of a well.\n",
      "  </p>\n",
      "  <p class=\"story\">\n",
      "   ...\n",
      "  </p>\n",
      " </body>\n",
      "</html>\n"
     ]
    }
   ],
   "source": [
    "response = requests.get(\"https://review-of-my-life.blogspot.com/\")\n",
    "soup = BeautifulSoup(html_doc, 'html.parser')\n",
    "print(soup.prettify())"
   ]
  },
  {
   "cell_type": "code",
   "execution_count": 48,
   "metadata": {},
   "outputs": [
    {
     "data": {
      "text/plain": [
       "[<a class=\"sister\" href=\"http://example.com/elsie\" id=\"link1\">Elsie</a>,\n",
       " <a class=\"sister\" href=\"http://example.com/lacie\" id=\"link2\">Lacie</a>,\n",
       " <a class=\"sister\" href=\"http://example.com/tillie\" id=\"link3\">Tillie</a>]"
      ]
     },
     "execution_count": 48,
     "metadata": {},
     "output_type": "execute_result"
    }
   ],
   "source": [
    "soup.find_all(\"a\")"
   ]
  },
  {
   "cell_type": "code",
   "execution_count": null,
   "metadata": {},
   "outputs": [],
   "source": []
  },
  {
   "cell_type": "code",
   "execution_count": 49,
   "metadata": {
    "scrolled": false
   },
   "outputs": [
    {
     "data": {
      "text/plain": [
       "<a class=\"sister\" href=\"http://example.com/elsie\" id=\"link1\">Elsie</a>"
      ]
     },
     "execution_count": 49,
     "metadata": {},
     "output_type": "execute_result"
    }
   ],
   "source": [
    "soup.find('a')"
   ]
  },
  {
   "cell_type": "code",
   "execution_count": null,
   "metadata": {},
   "outputs": [],
   "source": []
  },
  {
   "cell_type": "code",
   "execution_count": 51,
   "metadata": {},
   "outputs": [
    {
     "name": "stdout",
     "output_type": "stream",
     "text": [
      "Elsie\n",
      "Lacie\n",
      "Tillie\n"
     ]
    }
   ],
   "source": [
    "tags = soup.find_all(\"a\")\n",
    "for tag in tags:\n",
    "    print(tag.string)"
   ]
  },
  {
   "cell_type": "code",
   "execution_count": 52,
   "metadata": {},
   "outputs": [
    {
     "data": {
      "text/plain": [
       "<body>\n",
       "<p class=\"title\"><b>The Dormouse's story</b></p>\n",
       "<p class=\"story\">Once upon a time there were three little sisters; and their names were\n",
       "<a class=\"sister\" href=\"http://example.com/elsie\" id=\"link1\">Elsie</a>,\n",
       "<a class=\"sister\" href=\"http://example.com/lacie\" id=\"link2\">Lacie</a> and\n",
       "<a class=\"sister\" href=\"http://example.com/tillie\" id=\"link3\">Tillie</a>;\n",
       "and they lived at the bottom of a well.</p>\n",
       "<p class=\"story\">...</p>\n",
       "</body>"
      ]
     },
     "execution_count": 52,
     "metadata": {},
     "output_type": "execute_result"
    }
   ],
   "source": [
    "soup.find('body')"
   ]
  },
  {
   "cell_type": "code",
   "execution_count": null,
   "metadata": {},
   "outputs": [],
   "source": []
  }
 ],
 "metadata": {
  "kernelspec": {
   "display_name": "Python 3",
   "language": "python",
   "name": "python3"
  },
  "language_info": {
   "codemirror_mode": {
    "name": "ipython",
    "version": 3
   },
   "file_extension": ".py",
   "mimetype": "text/x-python",
   "name": "python",
   "nbconvert_exporter": "python",
   "pygments_lexer": "ipython3",
   "version": "3.7.6"
  }
 },
 "nbformat": 4,
 "nbformat_minor": 4
}
